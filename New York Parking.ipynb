{
  "cells": [
    {
      "cell_type": "markdown",
      "metadata": {
        "id": "view-in-github",
        "colab_type": "text"
      },
      "source": [
        "<a href=\"https://colab.research.google.com/github/davepalaksh/NYC-Parking/blob/main/New%20York%20Parking.ipynb\" target=\"_parent\"><img src=\"https://colab.research.google.com/assets/colab-badge.svg\" alt=\"Open In Colab\"/></a>"
      ]
    },
    {
      "cell_type": "code",
      "execution_count": 5,
      "metadata": {
        "colab": {
          "base_uri": "https://localhost:8080/"
        },
        "id": "3ZWDE6ZT-9TD",
        "outputId": "3d3bbde2-3c35-40aa-ba75-51cf7681edfd"
      },
      "outputs": [
        {
          "output_type": "stream",
          "name": "stdout",
          "text": [
            "Collecting pyspark\n",
            "  Downloading pyspark-3.5.3.tar.gz (317.3 MB)\n",
            "\u001b[2K     \u001b[90m━━━━━━━━━━━━━━━━━━━━━━━━━━━━━━━━━━━━━━━━\u001b[0m \u001b[32m317.3/317.3 MB\u001b[0m \u001b[31m4.9 MB/s\u001b[0m eta \u001b[36m0:00:00\u001b[0m\n",
            "\u001b[?25h  Preparing metadata (setup.py) ... \u001b[?25l\u001b[?25hdone\n",
            "Requirement already satisfied: py4j in /usr/local/lib/python3.10/dist-packages (0.10.9.7)\n",
            "Building wheels for collected packages: pyspark\n",
            "  Building wheel for pyspark (setup.py) ... \u001b[?25l\u001b[?25hdone\n",
            "  Created wheel for pyspark: filename=pyspark-3.5.3-py2.py3-none-any.whl size=317840625 sha256=e9c65ecbab84b35101a570f51e95fd4235f8b0cddd72048ed34ec057a60ba5a8\n",
            "  Stored in directory: /root/.cache/pip/wheels/1b/3a/92/28b93e2fbfdbb07509ca4d6f50c5e407f48dce4ddbda69a4ab\n",
            "Successfully built pyspark\n",
            "Installing collected packages: pyspark\n",
            "Successfully installed pyspark-3.5.3\n"
          ]
        }
      ],
      "source": [
        "!pip install pyspark py4j"
      ]
    },
    {
      "cell_type": "code",
      "execution_count": 6,
      "metadata": {
        "id": "UZhhMy_t_Ti2"
      },
      "outputs": [],
      "source": [
        "from pyspark.sql import SparkSession\n",
        "from pyspark.sql.types import *\n",
        "from pyspark.sql.functions import *\n",
        "from pyspark.sql.window import Window"
      ]
    },
    {
      "cell_type": "code",
      "execution_count": 7,
      "metadata": {
        "id": "hZr51j5AAWoE"
      },
      "outputs": [],
      "source": [
        "spark = SparkSession.builder.appName(\"NYC\").getOrCreate()"
      ]
    },
    {
      "cell_type": "code",
      "source": [
        "from google.colab import drive\n",
        "drive.mount('/content/drive')\n"
      ],
      "metadata": {
        "colab": {
          "base_uri": "https://localhost:8080/"
        },
        "id": "6DuFlim_dhs6",
        "outputId": "bfba2dcb-4f94-4247-cf3c-cffbc99d15d0"
      },
      "execution_count": 8,
      "outputs": [
        {
          "output_type": "stream",
          "name": "stdout",
          "text": [
            "Drive already mounted at /content/drive; to attempt to forcibly remount, call drive.mount(\"/content/drive\", force_remount=True).\n"
          ]
        }
      ]
    },
    {
      "cell_type": "code",
      "source": [
        "# reading the csv file\n",
        "df=spark.read.format(\"csv\").option(\"header\",\"True\").option(\"inferSchema\",\"true\").load(\"/content/drive/MyDrive/Parking_Violations_Issued_-_Fiscal_Year_2017.csv\")"
      ],
      "metadata": {
        "id": "gas30GXheqlF"
      },
      "execution_count": 51,
      "outputs": []
    },
    {
      "cell_type": "code",
      "source": [
        "df.printSchema()"
      ],
      "metadata": {
        "colab": {
          "base_uri": "https://localhost:8080/"
        },
        "id": "M70dazKQf4g2",
        "outputId": "b62a4a40-3682-4dd7-cc8b-a377bd95e766"
      },
      "execution_count": 52,
      "outputs": [
        {
          "output_type": "stream",
          "name": "stdout",
          "text": [
            "root\n",
            " |-- Summons Number: long (nullable = true)\n",
            " |-- Plate ID: string (nullable = true)\n",
            " |-- Registration State: string (nullable = true)\n",
            " |-- Plate Type: string (nullable = true)\n",
            " |-- Issue Date: string (nullable = true)\n",
            " |-- Violation Code: integer (nullable = true)\n",
            " |-- Vehicle Body Type: string (nullable = true)\n",
            " |-- Vehicle Make: string (nullable = true)\n",
            " |-- Issuing Agency: string (nullable = true)\n",
            " |-- Street Code1: integer (nullable = true)\n",
            " |-- Street Code2: integer (nullable = true)\n",
            " |-- Street Code3: integer (nullable = true)\n",
            " |-- Vehicle Expiration Date: integer (nullable = true)\n",
            " |-- Violation Location: integer (nullable = true)\n",
            " |-- Violation Precinct: integer (nullable = true)\n",
            " |-- Issuer Precinct: integer (nullable = true)\n",
            " |-- Issuer Code: integer (nullable = true)\n",
            " |-- Issuer Command: string (nullable = true)\n",
            " |-- Issuer Squad: string (nullable = true)\n",
            " |-- Violation Time: string (nullable = true)\n",
            " |-- Time First Observed: string (nullable = true)\n",
            " |-- Violation County: string (nullable = true)\n",
            " |-- Violation In Front Of Or Opposite: string (nullable = true)\n",
            " |-- House Number: string (nullable = true)\n",
            " |-- Street Name: string (nullable = true)\n",
            " |-- Intersecting Street: string (nullable = true)\n",
            " |-- Date First Observed: integer (nullable = true)\n",
            " |-- Law Section: integer (nullable = true)\n",
            " |-- Sub Division: string (nullable = true)\n",
            " |-- Violation Legal Code: string (nullable = true)\n",
            " |-- Days Parking In Effect    : string (nullable = true)\n",
            " |-- From Hours In Effect: string (nullable = true)\n",
            " |-- To Hours In Effect: string (nullable = true)\n",
            " |-- Vehicle Color: string (nullable = true)\n",
            " |-- Unregistered Vehicle?: integer (nullable = true)\n",
            " |-- Vehicle Year: integer (nullable = true)\n",
            " |-- Meter Number: string (nullable = true)\n",
            " |-- Feet From Curb: integer (nullable = true)\n",
            " |-- Violation Post Code: string (nullable = true)\n",
            " |-- Violation Description: string (nullable = true)\n",
            " |-- No Standing or Stopping Violation: string (nullable = true)\n",
            " |-- Hydrant Violation: string (nullable = true)\n",
            " |-- Double Parking Violation: string (nullable = true)\n",
            "\n"
          ]
        }
      ]
    },
    {
      "cell_type": "code",
      "source": [
        "columns_todrop=['Issuing Agency',\n",
        " 'Plate Type',\n",
        " 'Street Code1',\n",
        " 'Street Code2',\n",
        " 'Street Code3',\n",
        " 'Vehicle Expiration Date',\n",
        " 'Violation Location',\n",
        " 'Issuer Code',\n",
        " 'Issuer Command',\n",
        " 'Issuer Squad',\n",
        " 'Time First Observed',\n",
        " 'Violation County',\n",
        " 'Violation In Front Of Or Opposite',\n",
        " 'House Number',\n",
        " 'Street Name',\n",
        " 'Intersecting Street',\n",
        " 'Date First Observed',\n",
        " 'Law Section',\n",
        " 'Sub Division',\n",
        " 'Violation Legal Code',\n",
        " 'Days Parking In Effect    ',\n",
        " 'From Hours In Effect',\n",
        " 'To Hours In Effect',\n",
        " 'Vehicle Color',\n",
        " 'Unregistered Vehicle?',\n",
        " 'Vehicle Year',\n",
        " 'Meter Number',\n",
        " 'Feet From Curb',\n",
        " 'Violation Post Code',\n",
        " 'Violation Description',\n",
        " 'No Standing or Stopping Violation',\n",
        " 'Hydrant Violation',\n",
        " 'Double Parking Violation']"
      ],
      "metadata": {
        "id": "f3inYy4mf812"
      },
      "execution_count": 53,
      "outputs": []
    },
    {
      "cell_type": "code",
      "source": [
        "df=df.drop(*columns_todrop)"
      ],
      "metadata": {
        "id": "ZFjpIgVNh8NK"
      },
      "execution_count": 54,
      "outputs": []
    },
    {
      "cell_type": "code",
      "source": [
        "df.columns"
      ],
      "metadata": {
        "colab": {
          "base_uri": "https://localhost:8080/"
        },
        "id": "5WxkctENfTdo",
        "outputId": "d00be5d7-6b25-4c34-bee0-72683f3afe69"
      },
      "execution_count": 55,
      "outputs": [
        {
          "output_type": "execute_result",
          "data": {
            "text/plain": [
              "['Summons Number',\n",
              " 'Plate ID',\n",
              " 'Registration State',\n",
              " 'Issue Date',\n",
              " 'Violation Code',\n",
              " 'Vehicle Body Type',\n",
              " 'Vehicle Make',\n",
              " 'Violation Precinct',\n",
              " 'Issuer Precinct',\n",
              " 'Violation Time']"
            ]
          },
          "metadata": {},
          "execution_count": 55
        }
      ]
    },
    {
      "cell_type": "code",
      "source": [
        "len(df.columns)"
      ],
      "metadata": {
        "colab": {
          "base_uri": "https://localhost:8080/"
        },
        "id": "w1Tizl8cm8hh",
        "outputId": "0f72e05c-698c-4cc4-b065-d9f266b60511"
      },
      "execution_count": 56,
      "outputs": [
        {
          "output_type": "execute_result",
          "data": {
            "text/plain": [
              "10"
            ]
          },
          "metadata": {},
          "execution_count": 56
        }
      ]
    },
    {
      "cell_type": "code",
      "source": [
        "df.show(5)"
      ],
      "metadata": {
        "colab": {
          "base_uri": "https://localhost:8080/"
        },
        "id": "h2mvCMpLiTL-",
        "outputId": "9cca3666-5cc8-4ee9-a37a-65ea863434fe"
      },
      "execution_count": 57,
      "outputs": [
        {
          "output_type": "stream",
          "name": "stdout",
          "text": [
            "+--------------+--------+------------------+----------+--------------+-----------------+------------+------------------+---------------+--------------+\n",
            "|Summons Number|Plate ID|Registration State|Issue Date|Violation Code|Vehicle Body Type|Vehicle Make|Violation Precinct|Issuer Precinct|Violation Time|\n",
            "+--------------+--------+------------------+----------+--------------+-----------------+------------+------------------+---------------+--------------+\n",
            "|    5092469481| GZH7067|                NY|07/10/2016|             7|             SUBN|       TOYOT|                 0|              0|         0143A|\n",
            "|    5092451658| GZH7067|                NY|07/08/2016|             7|             SUBN|       TOYOT|                 0|              0|         0400P|\n",
            "|    4006265037| FZX9232|                NY|08/23/2016|             5|             SUBN|        FORD|                 0|              0|         0233P|\n",
            "|    8478629828| 66623ME|                NY|06/14/2017|            47|             REFG|       MITSU|                14|             14|         1120A|\n",
            "|    7868300310| 37033JV|                NY|11/21/2016|            69|             DELV|       INTER|                13|             13|         0555P|\n",
            "+--------------+--------+------------------+----------+--------------+-----------------+------------+------------------+---------------+--------------+\n",
            "only showing top 5 rows\n",
            "\n"
          ]
        }
      ]
    },
    {
      "cell_type": "code",
      "source": [
        "#changing the names of columns adding '_'\n",
        "\n",
        "df=df.toDF(*(colName.replace(' ','_') for colName in df.columns))\n",
        "df.show(5)"
      ],
      "metadata": {
        "colab": {
          "base_uri": "https://localhost:8080/"
        },
        "id": "ivatHhhLimlG",
        "outputId": "90bf3c5a-bb33-44de-f301-9056892056b0"
      },
      "execution_count": 58,
      "outputs": [
        {
          "output_type": "stream",
          "name": "stdout",
          "text": [
            "+--------------+--------+------------------+----------+--------------+-----------------+------------+------------------+---------------+--------------+\n",
            "|Summons_Number|Plate_ID|Registration_State|Issue_Date|Violation_Code|Vehicle_Body_Type|Vehicle_Make|Violation_Precinct|Issuer_Precinct|Violation_Time|\n",
            "+--------------+--------+------------------+----------+--------------+-----------------+------------+------------------+---------------+--------------+\n",
            "|    5092469481| GZH7067|                NY|07/10/2016|             7|             SUBN|       TOYOT|                 0|              0|         0143A|\n",
            "|    5092451658| GZH7067|                NY|07/08/2016|             7|             SUBN|       TOYOT|                 0|              0|         0400P|\n",
            "|    4006265037| FZX9232|                NY|08/23/2016|             5|             SUBN|        FORD|                 0|              0|         0233P|\n",
            "|    8478629828| 66623ME|                NY|06/14/2017|            47|             REFG|       MITSU|                14|             14|         1120A|\n",
            "|    7868300310| 37033JV|                NY|11/21/2016|            69|             DELV|       INTER|                13|             13|         0555P|\n",
            "+--------------+--------+------------------+----------+--------------+-----------------+------------+------------------+---------------+--------------+\n",
            "only showing top 5 rows\n",
            "\n"
          ]
        }
      ]
    },
    {
      "cell_type": "code",
      "source": [
        "df.count()"
      ],
      "metadata": {
        "colab": {
          "base_uri": "https://localhost:8080/"
        },
        "id": "qi-FI4z3jHCv",
        "outputId": "7ab60580-1ac7-4f27-9bfa-067caebe695f"
      },
      "execution_count": 59,
      "outputs": [
        {
          "output_type": "execute_result",
          "data": {
            "text/plain": [
              "10803028"
            ]
          },
          "metadata": {},
          "execution_count": 59
        }
      ]
    },
    {
      "cell_type": "code",
      "source": [
        "#handling null values\n",
        "\n",
        "print('Null Values before dropping are',df.count() )\n",
        "\n",
        "df=df.na.drop()\n",
        "\n",
        "print('Null Values after dropping are', df.count())"
      ],
      "metadata": {
        "colab": {
          "base_uri": "https://localhost:8080/"
        },
        "id": "v30fzAH5jMnF",
        "outputId": "bbd9d654-2942-4caa-94d3-bd23ecd0ed60"
      },
      "execution_count": 61,
      "outputs": [
        {
          "output_type": "stream",
          "name": "stdout",
          "text": [
            "Null Values before dropping are 10698175\n",
            "Null Values after dropping are 10698175\n"
          ]
        }
      ]
    },
    {
      "cell_type": "markdown",
      "source": [
        "**STEP 1: HANDLING NULL VALUES**"
      ],
      "metadata": {
        "id": "A5hR9CkqkqP_"
      }
    },
    {
      "cell_type": "code",
      "source": [
        "# Drop duplicate values based on the summons number column\n",
        "\n",
        "# Check the count before dropping duplicate summon numbers\n",
        "print('Count before dropping duplicate summon numbers : ', df.count())\n",
        "\n",
        "# drop duplicate summon numbers\n",
        "df.select('Summons_Number').dropDuplicates()\n",
        "\n",
        "# Check the count after dropping duplicate summon numbers\n",
        "print('Count before dropping duplicate summon numbers : ', df.count())"
      ],
      "metadata": {
        "colab": {
          "base_uri": "https://localhost:8080/"
        },
        "id": "19OP-dgbjsfx",
        "outputId": "5b55e895-9cb8-4c2d-ca67-3bbb933e9579"
      },
      "execution_count": 62,
      "outputs": [
        {
          "output_type": "stream",
          "name": "stdout",
          "text": [
            "Count before dropping duplicate summon numbers :  10698175\n",
            "Count before dropping duplicate summon numbers :  10698175\n"
          ]
        }
      ]
    },
    {
      "cell_type": "code",
      "source": [
        "df.show(5)"
      ],
      "metadata": {
        "colab": {
          "base_uri": "https://localhost:8080/"
        },
        "id": "0bs40LkumYDj",
        "outputId": "8026066b-e911-41ea-acf3-06964726ee4a"
      },
      "execution_count": 63,
      "outputs": [
        {
          "output_type": "stream",
          "name": "stdout",
          "text": [
            "+--------------+--------+------------------+----------+--------------+-----------------+------------+------------------+---------------+--------------+\n",
            "|Summons_Number|Plate_ID|Registration_State|Issue_Date|Violation_Code|Vehicle_Body_Type|Vehicle_Make|Violation_Precinct|Issuer_Precinct|Violation_Time|\n",
            "+--------------+--------+------------------+----------+--------------+-----------------+------------+------------------+---------------+--------------+\n",
            "|    5092469481| GZH7067|                NY|07/10/2016|             7|             SUBN|       TOYOT|                 0|              0|         0143A|\n",
            "|    5092451658| GZH7067|                NY|07/08/2016|             7|             SUBN|       TOYOT|                 0|              0|         0400P|\n",
            "|    4006265037| FZX9232|                NY|08/23/2016|             5|             SUBN|        FORD|                 0|              0|         0233P|\n",
            "|    8478629828| 66623ME|                NY|06/14/2017|            47|             REFG|       MITSU|                14|             14|         1120A|\n",
            "|    7868300310| 37033JV|                NY|11/21/2016|            69|             DELV|       INTER|                13|             13|         0555P|\n",
            "+--------------+--------+------------------+----------+--------------+-----------------+------------+------------------+---------------+--------------+\n",
            "only showing top 5 rows\n",
            "\n"
          ]
        }
      ]
    },
    {
      "cell_type": "markdown",
      "source": [
        "**STEP 2 : Creating a Temp Table**"
      ],
      "metadata": {
        "id": "DFGshXgnkage"
      }
    },
    {
      "cell_type": "code",
      "source": [
        "#creating a temporary table\n",
        "\n",
        "df.createOrReplaceTempView('Parking')"
      ],
      "metadata": {
        "id": "ikxt0lSqkClw"
      },
      "execution_count": 64,
      "outputs": []
    },
    {
      "cell_type": "code",
      "source": [
        "spark.sql('select * from Parking')"
      ],
      "metadata": {
        "colab": {
          "base_uri": "https://localhost:8080/"
        },
        "id": "hkZ8mx64j-9a",
        "outputId": "cc2fa9c6-5c11-468c-86f8-098761ede367"
      },
      "execution_count": 65,
      "outputs": [
        {
          "output_type": "execute_result",
          "data": {
            "text/plain": [
              "DataFrame[Summons_Number: bigint, Plate_ID: string, Registration_State: string, Issue_Date: string, Violation_Code: int, Vehicle_Body_Type: string, Vehicle_Make: string, Violation_Precinct: int, Issuer_Precinct: int, Violation_Time: string]"
            ]
          },
          "metadata": {},
          "execution_count": 65
        }
      ]
    },
    {
      "cell_type": "markdown",
      "source": [
        "**Step 3 : Data Cleaning and Data Preparation**"
      ],
      "metadata": {
        "id": "bUJCQpxNk3DX"
      }
    },
    {
      "cell_type": "markdown",
      "source": [],
      "metadata": {
        "id": "fxmSnLJEk_3d"
      }
    },
    {
      "cell_type": "markdown",
      "source": [
        "Let us first filter the data for the year 2017 and create a new table with that data"
      ],
      "metadata": {
        "id": "_4yc8o5klGss"
      }
    },
    {
      "cell_type": "code",
      "source": [
        "# Find the total number of tickets for each year\n",
        "\n",
        "year_wise_tickets = spark.sql(\"select year(Issue_Date) as year, count(Summons_Number) as no_of_tickets from parking \\\n",
        "                              group by year order by year desc\")\n",
        "\n",
        "year_wise_tickets.show(70)"
      ],
      "metadata": {
        "colab": {
          "base_uri": "https://localhost:8080/"
        },
        "id": "rBfFUhMclCBN",
        "outputId": "53c9ad2e-54c9-4783-fac7-6b766a5a4f73"
      },
      "execution_count": 66,
      "outputs": [
        {
          "output_type": "stream",
          "name": "stdout",
          "text": [
            "+----+-------------+\n",
            "|year|no_of_tickets|\n",
            "+----+-------------+\n",
            "|NULL|     10698175|\n",
            "+----+-------------+\n",
            "\n"
          ]
        }
      ]
    },
    {
      "cell_type": "code",
      "source": [
        "# Filter out only 2017 related data\n",
        "\n",
        "parking2017 = spark.sql(\"select * from parking \\\n",
        "                         where year(to_date(cast(unix_timestamp(Issue_Date,'MM/dd/yyyy') as timestamp))) = 2017\")\n",
        "\n",
        "parking2017.count()"
      ],
      "metadata": {
        "colab": {
          "base_uri": "https://localhost:8080/"
        },
        "id": "pOOVeYDG1vYa",
        "outputId": "d2ff1227-9880-4076-cfff-177a8e7bf578"
      },
      "execution_count": 67,
      "outputs": [
        {
          "output_type": "execute_result",
          "data": {
            "text/plain": [
              "5379170"
            ]
          },
          "metadata": {},
          "execution_count": 67
        }
      ]
    },
    {
      "cell_type": "code",
      "source": [
        "# Create a new temp table with the 2017 data.\n",
        "\n",
        "parking2017.createOrReplaceTempView(\"parking_2017\")"
      ],
      "metadata": {
        "id": "Ly8KM2BTmCaN"
      },
      "execution_count": 69,
      "outputs": []
    },
    {
      "cell_type": "code",
      "source": [
        "spark.sql(\"select count(distinct Summons_Number) as summons_count from parking_2017\").show()"
      ],
      "metadata": {
        "colab": {
          "base_uri": "https://localhost:8080/"
        },
        "id": "5X8YOwWs2ejb",
        "outputId": "b724e0ba-d341-4beb-d071-36c8816473a8"
      },
      "execution_count": 70,
      "outputs": [
        {
          "output_type": "stream",
          "name": "stdout",
          "text": [
            "+-------------+\n",
            "|summons_count|\n",
            "+-------------+\n",
            "|      5379170|\n",
            "+-------------+\n",
            "\n"
          ]
        }
      ]
    },
    {
      "cell_type": "markdown",
      "source": [
        "Check the Plate Id for any erroneous data and if exists remove the erroneous data"
      ],
      "metadata": {
        "id": "SCokRWwZ3AUY"
      }
    },
    {
      "cell_type": "code",
      "source": [
        "# Check the tickets issued based on plate ids\n",
        "\n",
        "check_plate_id = spark.sql(\"select Plate_ID as plate_id, count(*) as ticket_count \\\n",
        "                          from parking_2017 \\\n",
        "                          group by plate_id \\\n",
        "                          having count(*) > 1 \\\n",
        "                          order by ticket_count desc\")\n",
        "\n",
        "check_plate_id.show()"
      ],
      "metadata": {
        "colab": {
          "base_uri": "https://localhost:8080/"
        },
        "id": "YsXr-mD62XkW",
        "outputId": "fd6966a6-6c00-4061-d37e-01568436fe73"
      },
      "execution_count": 71,
      "outputs": [
        {
          "output_type": "stream",
          "name": "stdout",
          "text": [
            "+----------+------------+\n",
            "|  plate_id|ticket_count|\n",
            "+----------+------------+\n",
            "|BLANKPLATE|        3378|\n",
            "|   94905JA|         524|\n",
            "|   14828MJ|         518|\n",
            "|   96087MA|         508|\n",
            "|   2121796|         505|\n",
            "|   96089MA|         504|\n",
            "|   85848MD|         499|\n",
            "|   16242TC|         495|\n",
            "|   47603MD|         490|\n",
            "|   30954JX|         489|\n",
            "|   77116MA|         489|\n",
            "|   2194153|         487|\n",
            "|   12359MG|         472|\n",
            "|   16208TC|         464|\n",
            "|   49731MA|         460|\n",
            "|    XEEF98|         456|\n",
            "|   14829MJ|         455|\n",
            "|   2028685|         452|\n",
            "|   49331KA|         451|\n",
            "|   66103JR|         451|\n",
            "+----------+------------+\n",
            "only showing top 20 rows\n",
            "\n"
          ]
        }
      ]
    },
    {
      "cell_type": "code",
      "source": [
        "# Remove the rows containing value as BLANKPLATE for plate_id\n",
        "\n",
        "parking2017 = parking2017[parking2017.Plate_ID != 'BLANKPLATE']\n",
        "parking2017.count()"
      ],
      "metadata": {
        "colab": {
          "base_uri": "https://localhost:8080/"
        },
        "id": "zuE3peUq3Sj2",
        "outputId": "b029f526-4ef6-4d4c-cd58-8f67f777901e"
      },
      "execution_count": 72,
      "outputs": [
        {
          "output_type": "execute_result",
          "data": {
            "text/plain": [
              "5375792"
            ]
          },
          "metadata": {},
          "execution_count": 72
        }
      ]
    },
    {
      "cell_type": "code",
      "source": [
        "parking2017.createOrReplaceTempView(\"parking_2017\")"
      ],
      "metadata": {
        "id": "nTI01SGd31l0"
      },
      "execution_count": 73,
      "outputs": []
    },
    {
      "cell_type": "code",
      "source": [
        "# Check the count now\n",
        "\n",
        "spark.sql(\"select count(*) as count FROM parking_2017\").show()"
      ],
      "metadata": {
        "colab": {
          "base_uri": "https://localhost:8080/"
        },
        "id": "9p6zqAuclyIg",
        "outputId": "7c5f5a7d-b93d-4219-d868-79012b1311ae"
      },
      "execution_count": 74,
      "outputs": [
        {
          "output_type": "stream",
          "name": "stdout",
          "text": [
            "+-------+\n",
            "|  count|\n",
            "+-------+\n",
            "|5375792|\n",
            "+-------+\n",
            "\n"
          ]
        }
      ]
    },
    {
      "cell_type": "markdown",
      "source": [
        "Check the Registered State for any erroneous data and if exists replace the erroneous data with a valid data"
      ],
      "metadata": {
        "id": "zeIIq5cF4AnH"
      }
    },
    {
      "cell_type": "code",
      "source": [
        "# Check the ticket counts based in registered state\n",
        "\n",
        "registered_state_wise_tickets = spark.sql(\"select Registration_State as registration_state, count(*) as ticket_count \\\n",
        "                               from parking_2017 \\\n",
        "                               group by registration_state \\\n",
        "                               order by ticket_count desc\")\n",
        "\n",
        "registered_state_wise_tickets.show(70)"
      ],
      "metadata": {
        "colab": {
          "base_uri": "https://localhost:8080/"
        },
        "id": "hOSQPqu9lrTM",
        "outputId": "fcd4b656-9724-4fee-d16a-dc199b096ec6"
      },
      "execution_count": 75,
      "outputs": [
        {
          "output_type": "stream",
          "name": "stdout",
          "text": [
            "+------------------+------------+\n",
            "|registration_state|ticket_count|\n",
            "+------------------+------------+\n",
            "|                NY|     4244706|\n",
            "|                NJ|      470390|\n",
            "|                PA|      138323|\n",
            "|                CT|       69624|\n",
            "|                FL|       68626|\n",
            "|                IN|       44860|\n",
            "|                MA|       38253|\n",
            "|                VA|       33961|\n",
            "|                MD|       29956|\n",
            "|                NC|       26820|\n",
            "|                TX|       18585|\n",
            "|                IL|       18182|\n",
            "|                GA|       17346|\n",
            "|                AZ|       12180|\n",
            "|                OH|       12137|\n",
            "|                CA|       11985|\n",
            "|                SC|       10302|\n",
            "|                MN|        9709|\n",
            "|                OK|        8816|\n",
            "|                99|        8740|\n",
            "|                ME|        8184|\n",
            "|                DE|        7778|\n",
            "|                TN|        7297|\n",
            "|                MI|        7128|\n",
            "|                RI|        5153|\n",
            "|                NH|        4073|\n",
            "|                VT|        3642|\n",
            "|                AL|        3139|\n",
            "|                WA|        2977|\n",
            "|                OR|        2480|\n",
            "|                MO|        2462|\n",
            "|                ON|        2434|\n",
            "|                QB|        1972|\n",
            "|                IA|        1881|\n",
            "|                DC|        1863|\n",
            "|                WI|        1844|\n",
            "|                CO|        1813|\n",
            "|                KY|        1764|\n",
            "|                DP|        1755|\n",
            "|                LA|        1671|\n",
            "|                MS|        1556|\n",
            "|                WV|        1246|\n",
            "|                AR|         982|\n",
            "|                SD|         844|\n",
            "|                NM|         779|\n",
            "|                ID|         742|\n",
            "|                NV|         720|\n",
            "|                KS|         694|\n",
            "|                NE|         627|\n",
            "|                MT|         500|\n",
            "|                UT|         494|\n",
            "|                NS|         320|\n",
            "|                GV|         295|\n",
            "|                AK|         291|\n",
            "|                ND|         245|\n",
            "|                WY|         184|\n",
            "|                HI|         155|\n",
            "|                AB|          76|\n",
            "|                PE|          57|\n",
            "|                BC|          54|\n",
            "|                NB|          50|\n",
            "|                PR|          37|\n",
            "|                MB|          17|\n",
            "|                SK|           9|\n",
            "|                FO|           7|\n",
            "+------------------+------------+\n",
            "\n"
          ]
        }
      ]
    },
    {
      "cell_type": "code",
      "source": [
        "\n",
        "spark.sql(\"select count(distinct Registration_State) as count from parking_2017\").show()"
      ],
      "metadata": {
        "colab": {
          "base_uri": "https://localhost:8080/"
        },
        "id": "iX6bgiSSiJHr",
        "outputId": "d11691c8-c20f-4265-db1f-c0052ede19a2"
      },
      "execution_count": 76,
      "outputs": [
        {
          "output_type": "stream",
          "name": "stdout",
          "text": [
            "+-----+\n",
            "|count|\n",
            "+-----+\n",
            "|   65|\n",
            "+-----+\n",
            "\n"
          ]
        }
      ]
    },
    {
      "cell_type": "code",
      "source": [
        "# Replace the state named 99 with NY, as NY has the maximum violations.\n",
        "\n",
        "from pyspark.sql.functions import when,lit\n",
        "\n",
        "parking2017 = parking2017.withColumn('Registration_State', \\\n",
        "                                     when(parking2017[\"Registration_State\"] == \"99\", lit('NY'))\\\n",
        "                                     .otherwise(parking2017[\"Registration_State\"]))"
      ],
      "metadata": {
        "id": "qsQGFwmf5U10"
      },
      "execution_count": 77,
      "outputs": []
    },
    {
      "cell_type": "code",
      "source": [
        "# update the temp table with the current data\n",
        "\n",
        "parking2017.createOrReplaceTempView(\"parking_2017\")"
      ],
      "metadata": {
        "id": "p7UkeneriH5K"
      },
      "execution_count": 78,
      "outputs": []
    },
    {
      "cell_type": "code",
      "source": [
        "# Check the ticket counts based on registered state again and see if 10794 rows associated to state 99 has been now added to\n",
        "# NY (4273951 + 10794 = 4284745)\n",
        "\n",
        "registered_state_wise_tickets = spark.sql(\"select Registration_State as registration_state, count(*) as ticket_count \\\n",
        "                               from parking_2017 \\\n",
        "                               group by registration_state \\\n",
        "                               order by ticket_count desc\")\n",
        "\n",
        "registered_state_wise_tickets.show(70)"
      ],
      "metadata": {
        "colab": {
          "base_uri": "https://localhost:8080/"
        },
        "id": "C8fzW8PUiEd9",
        "outputId": "8c47e7cf-b648-4173-a38a-915cbc59ebfe"
      },
      "execution_count": 79,
      "outputs": [
        {
          "output_type": "stream",
          "name": "stdout",
          "text": [
            "+------------------+------------+\n",
            "|registration_state|ticket_count|\n",
            "+------------------+------------+\n",
            "|                NY|     4253446|\n",
            "|                NJ|      470390|\n",
            "|                PA|      138323|\n",
            "|                CT|       69624|\n",
            "|                FL|       68626|\n",
            "|                IN|       44860|\n",
            "|                MA|       38253|\n",
            "|                VA|       33961|\n",
            "|                MD|       29956|\n",
            "|                NC|       26820|\n",
            "|                TX|       18585|\n",
            "|                IL|       18182|\n",
            "|                GA|       17346|\n",
            "|                AZ|       12180|\n",
            "|                OH|       12137|\n",
            "|                CA|       11985|\n",
            "|                SC|       10302|\n",
            "|                MN|        9709|\n",
            "|                OK|        8816|\n",
            "|                ME|        8184|\n",
            "|                DE|        7778|\n",
            "|                TN|        7297|\n",
            "|                MI|        7128|\n",
            "|                RI|        5153|\n",
            "|                NH|        4073|\n",
            "|                VT|        3642|\n",
            "|                AL|        3139|\n",
            "|                WA|        2977|\n",
            "|                OR|        2480|\n",
            "|                MO|        2462|\n",
            "|                ON|        2434|\n",
            "|                QB|        1972|\n",
            "|                IA|        1881|\n",
            "|                DC|        1863|\n",
            "|                WI|        1844|\n",
            "|                CO|        1813|\n",
            "|                KY|        1764|\n",
            "|                DP|        1755|\n",
            "|                LA|        1671|\n",
            "|                MS|        1556|\n",
            "|                WV|        1246|\n",
            "|                AR|         982|\n",
            "|                SD|         844|\n",
            "|                NM|         779|\n",
            "|                ID|         742|\n",
            "|                NV|         720|\n",
            "|                KS|         694|\n",
            "|                NE|         627|\n",
            "|                MT|         500|\n",
            "|                UT|         494|\n",
            "|                NS|         320|\n",
            "|                GV|         295|\n",
            "|                AK|         291|\n",
            "|                ND|         245|\n",
            "|                WY|         184|\n",
            "|                HI|         155|\n",
            "|                AB|          76|\n",
            "|                PE|          57|\n",
            "|                BC|          54|\n",
            "|                NB|          50|\n",
            "|                PR|          37|\n",
            "|                MB|          17|\n",
            "|                SK|           9|\n",
            "|                FO|           7|\n",
            "+------------------+------------+\n",
            "\n"
          ]
        }
      ]
    },
    {
      "cell_type": "code",
      "source": [
        "# Count of distinct Registration states\n",
        "\n",
        "spark.sql(\"select count(distinct Registration_State) as count from parking_2017\").show()"
      ],
      "metadata": {
        "colab": {
          "base_uri": "https://localhost:8080/"
        },
        "id": "ACWUBowPhgrO",
        "outputId": "259c85ca-ed3a-4b33-faa2-df1917b6c965"
      },
      "execution_count": 80,
      "outputs": [
        {
          "output_type": "stream",
          "name": "stdout",
          "text": [
            "+-----+\n",
            "|count|\n",
            "+-----+\n",
            "|   64|\n",
            "+-----+\n",
            "\n"
          ]
        }
      ]
    },
    {
      "cell_type": "markdown",
      "source": [
        "**Basic Data Analysis**"
      ],
      "metadata": {
        "id": "TZFR7NZ36zpi"
      }
    },
    {
      "cell_type": "code",
      "source": [
        "# Let us check which month in the year 2017 has maximum summons\n",
        "\n",
        "month_wise_tickets = spark.sql(\"select month(Issue_Date) as month, count(*) as ticket_count \\\n",
        "                               from parking_2017 \\\n",
        "                               group by month(Issue_Date) \\\n",
        "                               order by ticket_count desc\")\n",
        "\n",
        "month_wise_tickets.show()"
      ],
      "metadata": {
        "colab": {
          "base_uri": "https://localhost:8080/"
        },
        "id": "Ug5GwzLhfSfP",
        "outputId": "99ae1d7c-47c8-4ae7-e1d2-9c36fac5c551"
      },
      "execution_count": 81,
      "outputs": [
        {
          "output_type": "stream",
          "name": "stdout",
          "text": [
            "+-----+------------+\n",
            "|month|ticket_count|\n",
            "+-----+------------+\n",
            "| NULL|     5375792|\n",
            "+-----+------------+\n",
            "\n"
          ]
        }
      ]
    },
    {
      "cell_type": "code",
      "source": [],
      "metadata": {
        "id": "L-7U3NEz8wBx"
      },
      "execution_count": null,
      "outputs": []
    },
    {
      "cell_type": "markdown",
      "source": [
        "Top 5 states that have maximum violations"
      ],
      "metadata": {
        "id": "cCphlR7a7IYy"
      }
    },
    {
      "cell_type": "code",
      "source": [
        "# create a dataframe with the ragistered state wise tickets\n",
        "\n",
        "import matplotlib.pyplot as plt\n",
        "registered_state_wise_tickets_df = registered_state_wise_tickets.toPandas()\n",
        "\n",
        "# plot a graph\n",
        "plt.clf()\n",
        "registered_state_wise_tickets_df.head(5).plot(x='registration_state', y='ticket_count', kind='bar', color ='coral')\n",
        "plt.title('Top 5 States with Maximum Parking Violations for 2017', fontsize = 14)\n",
        "plt.xlabel(\"State\", fontsize = 12)\n",
        "plt.ylabel(\"Ticket Count\", fontsize = 12)\n",
        "plt.legend('')\n",
        "plt.show()"
      ],
      "metadata": {
        "colab": {
          "base_uri": "https://localhost:8080/",
          "height": 514
        },
        "id": "H0hYpktFe1LT",
        "outputId": "b006bda9-5f4c-407c-becd-27a5a2ca81b6"
      },
      "execution_count": 85,
      "outputs": [
        {
          "output_type": "display_data",
          "data": {
            "text/plain": [
              "<Figure size 640x480 with 0 Axes>"
            ]
          },
          "metadata": {}
        },
        {
          "output_type": "display_data",
          "data": {
            "text/plain": [
              "<Figure size 640x480 with 1 Axes>"
            ],
            "image/png": "[encoded data removed]"
          },
          "metadata": {}
        }
      ]
    },
    {
      "cell_type": "markdown",
      "source": [
        "Top 5 Plate_Ids that have maximum violations"
      ],
      "metadata": {
        "id": "RLRDfxtq8_RS"
      }
    },
    {
      "cell_type": "code",
      "source": [
        "# Top 5 Plate Ids with maximum violations\n",
        "\n",
        "top_5_plate_ids = spark.sql(\"select Plate_ID as plate_id, count(*) as ticket_count \\\n",
        "                             from parking_2017 \\\n",
        "                             group by plate_id \\\n",
        "                             order by ticket_count desc \\\n",
        "                             limit 5\")\n",
        "top_5_plate_ids.show()"
      ],
      "metadata": {
        "colab": {
          "base_uri": "https://localhost:8080/"
        },
        "id": "a_-uV2Cw8NTN",
        "outputId": "11940bfe-bc4a-444f-d859-7f5fc694fc52"
      },
      "execution_count": 88,
      "outputs": [
        {
          "output_type": "stream",
          "name": "stdout",
          "text": [
            "+--------+------------+\n",
            "|plate_id|ticket_count|\n",
            "+--------+------------+\n",
            "| 94905JA|         524|\n",
            "| 14828MJ|         518|\n",
            "| 96087MA|         508|\n",
            "| 2121796|         505|\n",
            "| 96089MA|         504|\n",
            "+--------+------------+\n",
            "\n"
          ]
        }
      ]
    },
    {
      "cell_type": "code",
      "source": [
        "# create a dataframe with the month wise tickets data\n",
        "\n",
        "top_5_plate_ids_df = top_5_plate_ids.toPandas()\n",
        "\n",
        "# plot a graph\n",
        "plt.clf()\n",
        "top_5_plate_ids_df.plot(x='plate_id', y='ticket_count', kind='bar', color='brown')\n",
        "plt.title(\"Top 5 License Plate Id with Maximum Parking Violations for 2017\", fontsize = 14)\n",
        "plt.xlabel(\"Licence Plate Id\", fontsize = 12)\n",
        "plt.ylabel(\"Ticket Count\", fontsize = 12)\n",
        "plt.legend('')\n",
        "plt.show()"
      ],
      "metadata": {
        "colab": {
          "base_uri": "https://localhost:8080/",
          "height": 545
        },
        "id": "8aYWi-ij9LJA",
        "outputId": "0edabdec-dbcd-4dfe-9785-4d118f490a56"
      },
      "execution_count": 89,
      "outputs": [
        {
          "output_type": "display_data",
          "data": {
            "text/plain": [
              "<Figure size 640x480 with 0 Axes>"
            ]
          },
          "metadata": {}
        },
        {
          "output_type": "display_data",
          "data": {
            "text/plain": [
              "<Figure size 640x480 with 1 Axes>"
            ],
            "image/png": "[encoded data removed]"
          },
          "metadata": {}
        }
      ]
    },
    {
      "cell_type": "markdown",
      "source": [
        "Find the total number of tickets for the year."
      ],
      "metadata": {
        "id": "K206uHV-9U8H"
      }
    },
    {
      "cell_type": "code",
      "source": [
        "# Total number of tickets for the year 2017\n",
        "\n",
        "from pyspark.sql.functions import countDistinct\n",
        "parking2017.select(countDistinct(\"Summons_Number\").alias(\"total_number_of_tickets\")).show()"
      ],
      "metadata": {
        "colab": {
          "base_uri": "https://localhost:8080/"
        },
        "id": "ywLq8nos9F_A",
        "outputId": "2ccb8e94-c242-4fae-dda2-ed74a58e1bd7"
      },
      "execution_count": 90,
      "outputs": [
        {
          "output_type": "stream",
          "name": "stdout",
          "text": [
            "+-----------------------+\n",
            "|total_number_of_tickets|\n",
            "+-----------------------+\n",
            "|                5375792|\n",
            "+-----------------------+\n",
            "\n"
          ]
        }
      ]
    },
    {
      "cell_type": "markdown",
      "source": [
        "**Aggregation Tasks**"
      ],
      "metadata": {
        "id": "unQEXIJD-neP"
      }
    },
    {
      "cell_type": "markdown",
      "source": [
        "How often does each violation code occur? Display the frequency of the top five violation codes."
      ],
      "metadata": {
        "id": "MMPFEc9h-txd"
      }
    },
    {
      "cell_type": "code",
      "execution_count": 91,
      "metadata": {
        "id": "xoYp7UnsFj1O",
        "colab": {
          "base_uri": "https://localhost:8080/"
        },
        "outputId": "890c4a57-98f4-4b37-cc48-1eda1138e2ce"
      },
      "outputs": [
        {
          "output_type": "stream",
          "name": "stdout",
          "text": [
            "+--------------+----------------+\n",
            "|violation_code|ticket_frequency|\n",
            "+--------------+----------------+\n",
            "|            21|          759588|\n",
            "|            36|          661827|\n",
            "|            38|          540060|\n",
            "|            14|          472140|\n",
            "|            20|          317546|\n",
            "+--------------+----------------+\n",
            "\n"
          ]
        }
      ],
      "source": [
        "# How often does each violation code occur? Display the frequency of the top five violation codes\n",
        "\n",
        "violation_code_frequency = spark.sql(\"select Violation_Code as violation_code, count(*) as ticket_frequency \\\n",
        "                                      from parking_2017 \\\n",
        "                                      group by violation_code \\\n",
        "                                      order by ticket_frequency desc \\\n",
        "                                      limit 5\")\n",
        "violation_code_frequency.show()"
      ]
    },
    {
      "cell_type": "code",
      "source": [
        "# create a dataframe with the violation_code_frequency\n",
        "\n",
        "violation_code_frequency_df = violation_code_frequency.toPandas()\n",
        "\n",
        "# plot a graph\n",
        "plt.clf()\n",
        "violation_code_frequency_df.plot(x='violation_code', y='ticket_frequency', kind='bar')\n",
        "plt.title('Frequency Of Top 5 Violation Code For 2017', fontsize = 14)\n",
        "plt.xlabel(\"Violation Code\", fontsize = 12)\n",
        "plt.ylabel(\"Ticket Frequency\", fontsize = 12)\n",
        "plt.legend('')\n",
        "plt.show()"
      ],
      "metadata": {
        "colab": {
          "base_uri": "https://localhost:8080/",
          "height": 497
        },
        "id": "dTICAizK-0A8",
        "outputId": "09f7a230-a7a7-44b4-c405-64fb195e7790"
      },
      "execution_count": 92,
      "outputs": [
        {
          "output_type": "display_data",
          "data": {
            "text/plain": [
              "<Figure size 640x480 with 0 Axes>"
            ]
          },
          "metadata": {}
        },
        {
          "output_type": "display_data",
          "data": {
            "text/plain": [
              "<Figure size 640x480 with 1 Axes>"
            ],
            "image/png": "[encoded data removed]"
          },
          "metadata": {}
        }
      ]
    },
    {
      "cell_type": "markdown",
      "source": [
        "How often does each 'vehicle body type' get a parking ticket? How about the 'vehicle make'? (Hint: Find the top 5 for both.)"
      ],
      "metadata": {
        "id": "QNYzg1Rc_AKg"
      }
    },
    {
      "cell_type": "code",
      "execution_count": 93,
      "metadata": {
        "id": "7m5tabfAFJfE",
        "colab": {
          "base_uri": "https://localhost:8080/"
        },
        "outputId": "a8314c92-6a95-49e7-f19b-8fc1d9dd92ce"
      },
      "outputs": [
        {
          "output_type": "stream",
          "name": "stdout",
          "text": [
            "+-----------------+----------------+\n",
            "|vehicle_body_type|ticket_frequency|\n",
            "+-----------------+----------------+\n",
            "|             SUBN|         1879871|\n",
            "|             4DSD|         1546800|\n",
            "|              VAN|          718670|\n",
            "|             DELV|          351825|\n",
            "|              SDN|          189114|\n",
            "+-----------------+----------------+\n",
            "\n"
          ]
        }
      ],
      "source": [
        "# Display the frequency of the top five Vehicle Body Type getting a parking ticket\n",
        "\n",
        "vehicle_body_type_frequency = spark.sql(\"select Vehicle_Body_Type as vehicle_body_type, count(*) as ticket_frequency \\\n",
        "                                      from parking_2017 \\\n",
        "                                      group by vehicle_body_type \\\n",
        "                                      order by ticket_frequency desc \\\n",
        "                                      limit 5\")\n",
        "\n",
        "vehicle_body_type_frequency.show()"
      ]
    },
    {
      "cell_type": "code",
      "execution_count": 94,
      "metadata": {
        "id": "18DTzVvUFHW3",
        "colab": {
          "base_uri": "https://localhost:8080/",
          "height": 534
        },
        "outputId": "041aa5e7-f5f6-4dc0-a8a7-0a5d4e867e57"
      },
      "outputs": [
        {
          "output_type": "display_data",
          "data": {
            "text/plain": [
              "<Figure size 640x480 with 0 Axes>"
            ]
          },
          "metadata": {}
        },
        {
          "output_type": "display_data",
          "data": {
            "text/plain": [
              "<Figure size 640x480 with 1 Axes>"
            ],
            "image/png": "[encoded data removed]"
          },
          "metadata": {}
        }
      ],
      "source": [
        "# create a dataframe with the vehicle_body_type_frequency\n",
        "\n",
        "vehicle_body_type_frequency_df = vehicle_body_type_frequency.toPandas()\n",
        "\n",
        "# plot a graph\n",
        "plt.clf()\n",
        "vehicle_body_type_frequency_df.head(5).plot(x='vehicle_body_type', y='ticket_frequency', kind='bar')\n",
        "plt.title('Frequency Of Top 5 Parking Violations Based On Vehicle Body Type For 2017', fontsize = 14)\n",
        "plt.xlabel(\"Vehicle Body Type\", fontsize = 12)\n",
        "plt.ylabel(\"Ticket Frequency\", fontsize = 12)\n",
        "plt.legend('')\n",
        "plt.show()"
      ]
    },
    {
      "cell_type": "code",
      "execution_count": 95,
      "metadata": {
        "id": "vNQRmS0oE6A4",
        "colab": {
          "base_uri": "https://localhost:8080/"
        },
        "outputId": "99370018-a6d7-45fb-a28e-b1d870879e49"
      },
      "outputs": [
        {
          "output_type": "stream",
          "name": "stdout",
          "text": [
            "+------------+----------------+\n",
            "|vehicle_make|ticket_frequency|\n",
            "+------------+----------------+\n",
            "|        FORD|          635062|\n",
            "|       TOYOT|          603838|\n",
            "|       HONDA|          537252|\n",
            "|       NISSA|          460675|\n",
            "|       CHEVR|          355122|\n",
            "+------------+----------------+\n",
            "\n"
          ]
        }
      ],
      "source": [
        "# Display the frequency of the top five Vehicle Make getting a parking ticket\n",
        "\n",
        "vehicle_make_ticket_frequency = spark.sql(\"select Vehicle_Make as vehicle_make, count(*) as ticket_frequency \\\n",
        "                                          from parking_2017 \\\n",
        "                                          group by vehicle_make \\\n",
        "                                          order by ticket_frequency desc \\\n",
        "                                          limit 5\")\n",
        "vehicle_make_ticket_frequency.show()"
      ]
    },
    {
      "cell_type": "code",
      "execution_count": 96,
      "metadata": {
        "id": "uZqzaZGd6awP",
        "colab": {
          "base_uri": "https://localhost:8080/",
          "height": 531
        },
        "outputId": "ac63faed-7dd5-4e64-be0d-ca756d92180e"
      },
      "outputs": [
        {
          "output_type": "display_data",
          "data": {
            "text/plain": [
              "<Figure size 640x480 with 0 Axes>"
            ]
          },
          "metadata": {}
        },
        {
          "output_type": "display_data",
          "data": {
            "text/plain": [
              "<Figure size 640x480 with 1 Axes>"
            ],
            "image/png": "[encoded data removed]"
          },
          "metadata": {}
        }
      ],
      "source": [
        "# create a dataframe with the vehicle_make_ticket_frequency\n",
        "vehicle_make_ticket_frequency_df = vehicle_make_ticket_frequency.toPandas()\n",
        "\n",
        "# plot a graph\n",
        "plt.clf()\n",
        "vehicle_make_ticket_frequency_df.plot(x='vehicle_make', y='ticket_frequency', kind='bar')\n",
        "plt.title('Frequency Of Top 5 Parking Violations Based On Vehicle Make For 2017', fontsize = 14)\n",
        "plt.xlabel(\"Vehicle Make\", fontsize = 12)\n",
        "plt.ylabel(\"Ticket Frequency\", fontsize = 12)\n",
        "plt.legend('')\n",
        "plt.show()"
      ]
    },
    {
      "cell_type": "markdown",
      "source": [
        "Per the results from above, it can be inferred that - For Vehical Body Type, maximum parking violations happen for Suburban(SUBN) followed by four door sedan(4DSD) and Van - For Vehicle Make, maximum parking violations happen for Ford follwed by Toyota and Honda"
      ],
      "metadata": {
        "id": "suiTVYDIBRT7"
      }
    },
    {
      "cell_type": "code",
      "execution_count": null,
      "metadata": {
        "id": "zdkLTxye58JH"
      },
      "outputs": [],
      "source": [
        "#--"
      ]
    },
    {
      "cell_type": "markdown",
      "source": [
        "**A precinct is a police station that has a certain zone of the city under its command. Find the (5 highest) frequencies of tickets for each of the following :\n",
        "'Violation Precinct' (This is the precinct of the zone where the violation occurred). Using this, can you draw any insights for parking violations in any specific areas of the city?\n",
        "'Issuer Precinct' (This is the precinct that issued the ticket.)**\n",
        "Here, you would have noticed that the dataframe has the'Violating Precinct' or 'Issuing Precinct' as '0'. These are erroneous entries. Hence, you need to provide the records for five correct precincts. (Hint: Print the top six entries after sorting.)"
      ],
      "metadata": {
        "id": "d-2RaNWcBYQu"
      }
    },
    {
      "cell_type": "code",
      "execution_count": 97,
      "metadata": {
        "id": "R79Vx1r65XE0",
        "colab": {
          "base_uri": "https://localhost:8080/"
        },
        "outputId": "16f838b6-8d5f-4df8-85f1-f4b301386013"
      },
      "outputs": [
        {
          "output_type": "stream",
          "name": "stdout",
          "text": [
            "+------------------+----------------+\n",
            "|violation_precinct|ticket_frequency|\n",
            "+------------------+----------------+\n",
            "|                 0|          923336|\n",
            "|                19|          272072|\n",
            "|                14|          200558|\n",
            "|                 1|          172035|\n",
            "|                18|          165943|\n",
            "|               114|          146636|\n",
            "+------------------+----------------+\n",
            "only showing top 6 rows\n",
            "\n"
          ]
        }
      ],
      "source": [
        "# Display the frequency of the top five violation precinct\n",
        "\n",
        "violation_precinct_ticket_frequency = spark.sql(\"select Violation_Precinct as violation_precinct, count(*) as ticket_frequency \\\n",
        "                                                from parking_2017 \\\n",
        "                                                group by violation_precinct \\\n",
        "                                                order by ticket_frequency desc\")\n",
        "violation_precinct_ticket_frequency.show(6)"
      ]
    },
    {
      "cell_type": "code",
      "source": [
        "\n",
        "violation_precinct_ticket_frequency_df = violation_precinct_ticket_frequency.toPandas()\n",
        "\n",
        "# plot a graph\n",
        "plt.clf()\n",
        "violation_precinct_ticket_frequency_df[violation_precinct_ticket_frequency_df.violation_precinct != 0].head(5)\\\n",
        "                                        .plot(x='violation_precinct', y='ticket_frequency', kind='bar', color='olive')\n",
        "\n",
        "plt.title('Frequency Of Top 5 Violation Precinct For 2017', fontsize = 14)\n",
        "plt.xlabel(\"Violation Precinct\", fontsize = 12)\n",
        "plt.ylabel(\"Ticket Frequency\", fontsize = 12)\n",
        "plt.legend('')\n",
        "plt.show()"
      ],
      "metadata": {
        "colab": {
          "base_uri": "https://localhost:8080/",
          "height": 506
        },
        "id": "00uVZHN7Boq6",
        "outputId": "3397a913-f65f-4324-c0bb-2bbbe917463e"
      },
      "execution_count": 98,
      "outputs": [
        {
          "output_type": "display_data",
          "data": {
            "text/plain": [
              "<Figure size 640x480 with 0 Axes>"
            ]
          },
          "metadata": {}
        },
        {
          "output_type": "display_data",
          "data": {
            "text/plain": [
              "<Figure size 640x480 with 1 Axes>"
            ],
            "image/png": "[encoded data removed]"
          },
          "metadata": {}
        }
      ]
    },
    {
      "cell_type": "code",
      "execution_count": 99,
      "metadata": {
        "id": "RSJz1KpV5Tqa",
        "colab": {
          "base_uri": "https://localhost:8080/"
        },
        "outputId": "4e752b24-59c0-4e5a-9979-c47e71f66892"
      },
      "outputs": [
        {
          "output_type": "stream",
          "name": "stdout",
          "text": [
            "+---------------+----------------+\n",
            "|issuer_precinct|ticket_frequency|\n",
            "+---------------+----------------+\n",
            "|              0|         1063024|\n",
            "|             19|          264891|\n",
            "|             14|          197911|\n",
            "|              1|          166738|\n",
            "|             18|          160294|\n",
            "|            114|          143446|\n",
            "+---------------+----------------+\n",
            "only showing top 6 rows\n",
            "\n"
          ]
        }
      ],
      "source": [
        "# Display the frequency of the top six issuer precinct\n",
        "\n",
        "issuer_precinct_ticket_frequency = spark.sql(\"select Issuer_Precinct as issuer_precinct, count(*) as ticket_frequency \\\n",
        "                                                from parking_2017 \\\n",
        "                                                group by issuer_precinct \\\n",
        "                                                order by ticket_frequency desc\")\n",
        "\n",
        "issuer_precinct_ticket_frequency.show(6)"
      ]
    },
    {
      "cell_type": "code",
      "execution_count": 100,
      "metadata": {
        "id": "XKI8aGrh5P6u",
        "colab": {
          "base_uri": "https://localhost:8080/",
          "height": 506
        },
        "outputId": "7bb31b71-1543-44e1-8165-fee5ca93f602"
      },
      "outputs": [
        {
          "output_type": "display_data",
          "data": {
            "text/plain": [
              "<Figure size 640x480 with 0 Axes>"
            ]
          },
          "metadata": {}
        },
        {
          "output_type": "display_data",
          "data": {
            "text/plain": [
              "<Figure size 640x480 with 1 Axes>"
            ],
            "image/png": "[encoded data removed]"
          },
          "metadata": {}
        }
      ],
      "source": [
        "# create a dataframe with the issuer_precinct_ticket_frequency\n",
        "\n",
        "issuer_precinct_ticket_frequency_df = issuer_precinct_ticket_frequency.toPandas()\n",
        "\n",
        "# plot a graph\n",
        "plt.clf()\n",
        "issuer_precinct_ticket_frequency_df[issuer_precinct_ticket_frequency_df.issuer_precinct != 0].head(5)\\\n",
        "                                        .plot(x='issuer_precinct', y='ticket_frequency', kind='bar', color='olive')\n",
        "\n",
        "plt.title('Frequency Of Top 5 Issuer Precinct For 2017', fontsize = 14)\n",
        "plt.xlabel(\"Issuer Precinct\", fontsize = 12)\n",
        "plt.ylabel(\"Ticket Frequency\", fontsize = 12)\n",
        "plt.legend('')\n",
        "plt.show()"
      ]
    },
    {
      "cell_type": "markdown",
      "source": [
        "Per the results from above, it can be inferred that - The top 3 violation precincts and Issuer Precincts where maximum parking violations happen are 19, 14 and 1"
      ],
      "metadata": {
        "id": "MwQ5ni14B6Lu"
      }
    },
    {
      "cell_type": "markdown",
      "source": [
        "**Find the violation code frequencies for three precincts that have issued the most number of tickets. Do these precinct zones have an exceptionally high frequency of certain violation codes? Are these codes common across precincts?**"
      ],
      "metadata": {
        "id": "Zo3c-ZiQCG8M"
      }
    },
    {
      "cell_type": "code",
      "execution_count": 101,
      "metadata": {
        "id": "9Jysjoni3faF",
        "colab": {
          "base_uri": "https://localhost:8080/"
        },
        "outputId": "346f54bf-50f5-4ec2-e376-039db7a9269f"
      },
      "outputs": [
        {
          "output_type": "stream",
          "name": "stdout",
          "text": [
            "+--------------+----------------+\n",
            "|violation_code|ticket_frequency|\n",
            "+--------------+----------------+\n",
            "|            46|           47308|\n",
            "|            38|           36185|\n",
            "|            37|           36020|\n",
            "|            14|           29607|\n",
            "|            21|           28370|\n",
            "+--------------+----------------+\n",
            "\n"
          ]
        }
      ],
      "source": [
        "# Violation code Frquency for Issuer Precinct 19\n",
        "\n",
        "violation_code_frequency_precinct19 = spark.sql(\"select Violation_Code as violation_code, count(*) as ticket_frequency \\\n",
        "                                                from parking_2017 \\\n",
        "                                                where Issuer_Precinct = 19 \\\n",
        "                                                group by violation_code \\\n",
        "                                                order by ticket_frequency desc \\\n",
        "                                                limit 5 \")\n",
        "\n",
        "violation_code_frequency_precinct19.show()"
      ]
    },
    {
      "cell_type": "code",
      "execution_count": 102,
      "metadata": {
        "id": "l4Fdnea93caL",
        "colab": {
          "base_uri": "https://localhost:8080/"
        },
        "outputId": "9d3c339f-cd9d-4439-e236-18461f1974d2"
      },
      "outputs": [
        {
          "output_type": "stream",
          "name": "stdout",
          "text": [
            "+--------------+----------------+\n",
            "|violation_code|ticket_frequency|\n",
            "+--------------+----------------+\n",
            "|            14|           44520|\n",
            "|            69|           30196|\n",
            "|            31|           22481|\n",
            "|            47|           18305|\n",
            "|            42|           10009|\n",
            "+--------------+----------------+\n",
            "\n"
          ]
        }
      ],
      "source": [
        "# Violation code Frquency for Issuer Precinct 14\n",
        "\n",
        "violation_code_frequency_precinct14 = spark.sql(\"select Violation_Code as violation_code, count(*) as ticket_frequency \\\n",
        "                                                from parking_2017 \\\n",
        "                                                where Issuer_Precinct = 14 \\\n",
        "                                                group by violation_code \\\n",
        "                                                order by ticket_frequency desc \\\n",
        "                                                limit 5 \")\n",
        "\n",
        "violation_code_frequency_precinct14.show()"
      ]
    },
    {
      "cell_type": "code",
      "execution_count": 103,
      "metadata": {
        "id": "6xvSLm6y29sq",
        "colab": {
          "base_uri": "https://localhost:8080/"
        },
        "outputId": "6f035fac-aa07-4bc7-acee-591c2252d235"
      },
      "outputs": [
        {
          "output_type": "stream",
          "name": "stdout",
          "text": [
            "+--------------+----------------+\n",
            "|violation_code|ticket_frequency|\n",
            "+--------------+----------------+\n",
            "|            14|          112027|\n",
            "|            46|           67042|\n",
            "|            38|           47908|\n",
            "|            37|           43737|\n",
            "|            69|           38670|\n",
            "+--------------+----------------+\n",
            "\n"
          ]
        }
      ],
      "source": [
        "# Common violation Codes across issuer precincts 19, 14 and 1\n",
        "\n",
        "common_precincts_violation_codes = spark.sql(\"select Violation_Code as violation_code , count(*) as ticket_frequency \\\n",
        "                                              from parking_2017 \\\n",
        "                                              where Issuer_Precinct in (19, 14, 1) \\\n",
        "                                              group by violation_code \\\n",
        "                                              order by ticket_frequency desc \\\n",
        "                                              limit 5 \")\n",
        "\n",
        "common_precincts_violation_codes.show()"
      ]
    },
    {
      "cell_type": "code",
      "execution_count": 104,
      "metadata": {
        "id": "Zv9fvhPP1wHA",
        "colab": {
          "base_uri": "https://localhost:8080/",
          "height": 497
        },
        "outputId": "f2b4921b-58c0-4f2c-ccb4-43828166fb13"
      },
      "outputs": [
        {
          "output_type": "display_data",
          "data": {
            "text/plain": [
              "<Figure size 640x480 with 0 Axes>"
            ]
          },
          "metadata": {}
        },
        {
          "output_type": "display_data",
          "data": {
            "text/plain": [
              "<Figure size 640x480 with 1 Axes>"
            ],
            "image/png": "[encoded data removed]"
          },
          "metadata": {}
        }
      ],
      "source": [
        "\n",
        "# create a dataframe with the common_precincts_violation_codes\n",
        "\n",
        "common_precincts_violation_codes_df = common_precincts_violation_codes.toPandas()\n",
        "\n",
        "# plot a graph\n",
        "plt.clf()\n",
        "common_precincts_violation_codes_df.plot(x='violation_code', y='ticket_frequency', kind='bar')\n",
        "plt.title('Violation Codes Across Issuer Precincts 19, 14 and 1', fontsize = 14)\n",
        "plt.xlabel(\"Violation Codes\", fontsize = 12)\n",
        "plt.ylabel(\"Ticket Frequency\", fontsize = 12)\n",
        "plt.legend('')\n",
        "plt.show()"
      ]
    },
    {
      "cell_type": "markdown",
      "source": [
        "The top 3 common violation codes across top 3 precincts 19, 14 and 1 where the parking tickets were issued are 14, 46 and 38.\n",
        "Violation code 14 has exceptionally high frequency of 1,13,155 tickets issued.\n",
        "While the violation codes 14, 46 and 38 are common across the issuer precinct, the violation code 14 occurs in all the 3 issuer precincts (19, 14 and 1) while violation codes 46 and 38 occur in issuer precincts 19 and 1"
      ],
      "metadata": {
        "id": "vFZlvRTJEnbR"
      }
    },
    {
      "cell_type": "code",
      "source": [],
      "metadata": {
        "id": "oS7w2vmkESfa"
      },
      "execution_count": null,
      "outputs": []
    },
    {
      "cell_type": "code",
      "source": [],
      "metadata": {
        "id": "2K9q1kHyEsMn"
      },
      "execution_count": null,
      "outputs": []
    },
    {
      "cell_type": "markdown",
      "source": [
        "**Find out the properties of parking violations across different times of the day:\n",
        "- Find a way to deal with missing values, if any.\n",
        "  (Hint: Check for the null values using 'isNull' under the SQL. Also, to remove the null values, check the 'dropna'\n",
        "  command in the API documentation.)\n",
        "- The Violation Time field is specified in a strange format. Find a way to make this a time attribute that you can\n",
        "  use to divide into groups.\n",
        "- Divide 24 hours into six equal discrete bins of time. Choose the intervals as you see fit. For each of these\n",
        "  groups, find the three most commonly occurring violations.\n",
        "  (Hint: Use the CASE-WHEN in SQL view to segregate into bins. To find the most commonly occurring violations, you\n",
        "  can use an approach similar to the one mentioned in the hint for question 4.)\n",
        "- Now, try another direction. For the three most commonly occurring violation codes, find the most common time of\n",
        "  the day (in terms of the bins from the previous part)**"
      ],
      "metadata": {
        "id": "-pv9TyodEshe"
      }
    },
    {
      "cell_type": "code",
      "execution_count": 105,
      "metadata": {
        "id": "r7dTndCc-AQF",
        "colab": {
          "base_uri": "https://localhost:8080/"
        },
        "outputId": "a7004a06-d8a6-4432-da68-15678640923a"
      },
      "outputs": [
        {
          "output_type": "stream",
          "name": "stdout",
          "text": [
            "+--------------+--------+------------------+----------+--------------+-----------------+------------+------------------+---------------+--------------+\n",
            "|Summons_Number|Plate_ID|Registration_State|Issue_Date|Violation_Code|Vehicle_Body_Type|Vehicle_Make|Violation_Precinct|Issuer_Precinct|Violation_Time|\n",
            "+--------------+--------+------------------+----------+--------------+-----------------+------------+------------------+---------------+--------------+\n",
            "+--------------+--------+------------------+----------+--------------+-----------------+------------+------------------+---------------+--------------+\n",
            "\n"
          ]
        }
      ],
      "source": [
        "#Checking for the null value\n",
        "\n",
        "from pyspark.sql.functions import col\n",
        "parking2017.where(col(\"Violation_Time\").isNull()).show()"
      ]
    },
    {
      "cell_type": "markdown",
      "source": [
        "**Divide 24 hours into six equal discrete bins of time. Choose the intervals as you see fit. For each of these groups, find the three most commonly occurring violations.**"
      ],
      "metadata": {
        "id": "jzsQAkVWE37d"
      }
    },
    {
      "cell_type": "code",
      "source": [
        "# Dividing the 24 hours into six equal discrete bins of time.\n",
        "\n",
        "# We shall divide the 24 hours in the following bin category\n",
        "\n",
        "#     Bin 1 = 12:00 AM to 4:00 AM\n",
        "#     Bin 2 = 4:00 AM to 8:00 AM\n",
        "#     Bin 3 = 8:00 AM to 12:00 PM\n",
        "#     Bin 4 = 12:00 PM to 4:00 PM\n",
        "#     Bin 5 = 4:00 PM to 8:00 PM\n",
        "#     Bin 6 = 8:00 PM to 12:00 AM\n",
        "\n",
        "violation_time_bins_2017_df = spark.sql(\"select Summons_Number, Violation_Code, Violation_Time, \\\n",
        "                                         case \\\n",
        "                                               when substring(Violation_Time,1,2) in ('12', '00','01','02','03') \\\n",
        "                                                       and upper(substring(Violation_Time,-1))='A' \\\n",
        "                                               then 1 \\\n",
        "                                               when substring(Violation_Time,1,2) in ('04','05','06','07') \\\n",
        "                                                       and upper(substring(Violation_Time,-1))='A' \\\n",
        "                                               then 2 \\\n",
        "                                               when substring(Violation_Time,1,2) in ('08','09','10','11') \\\n",
        "                                                       and upper(substring(Violation_Time,-1))='A' \\\n",
        "                                               then 3 \\\n",
        "                                               when substring(Violation_Time,1,2) in ('12','00','01','02','03') \\\n",
        "                                                       and upper(substring(Violation_Time,-1))='P' \\\n",
        "                                               then 4 \\\n",
        "                                               when substring(Violation_Time,1,2) in ('04','05','06','07') \\\n",
        "                                                       and upper(substring(Violation_Time,-1))='P' \\\n",
        "                                               then 5 \\\n",
        "                                               when substring(Violation_Time,1,2) in ('08','09','10','11') \\\n",
        "                                                       and upper(substring(Violation_Time,-1))='P' \\\n",
        "                                               then 6 \\\n",
        "                                               else null \\\n",
        "                                        end as Violation_Time_Bin \\\n",
        "                                        from parking_2017 \\\n",
        "                                        where Violation_Time is not null\")\n",
        "\n",
        "violation_time_bins_2017_df.show(10)"
      ],
      "metadata": {
        "id": "6nevPzoAEy48",
        "outputId": "e6ed6be2-f13c-4c6a-de0b-80afd91e2cb4",
        "colab": {
          "base_uri": "https://localhost:8080/"
        }
      },
      "execution_count": 106,
      "outputs": [
        {
          "output_type": "stream",
          "name": "stdout",
          "text": [
            "+--------------+--------------+--------------+------------------+\n",
            "|Summons_Number|Violation_Code|Violation_Time|Violation_Time_Bin|\n",
            "+--------------+--------------+--------------+------------------+\n",
            "|    8478629828|            47|         1120A|                 3|\n",
            "|    5096917368|             7|         0852P|                 6|\n",
            "|    1407740258|            78|         0015A|                 1|\n",
            "|    1413656420|            40|         0525A|                 2|\n",
            "|    8480309064|            64|         0256P|                 4|\n",
            "|    1416638830|            20|         1232A|                 1|\n",
            "|    4630524241|            36|         1034A|                 3|\n",
            "|    8505131836|            38|         1021A|                 3|\n",
            "|    8513520615|            14|         0721A|                 2|\n",
            "|    8556155431|            75|         0940A|                 3|\n",
            "+--------------+--------------+--------------+------------------+\n",
            "only showing top 10 rows\n",
            "\n"
          ]
        }
      ]
    },
    {
      "cell_type": "code",
      "source": [
        "# Create/Replace a Temp View\n",
        "\n",
        "violation_time_bins_2017_df.createOrReplaceTempView(\"violation_time_bins_2017\")"
      ],
      "metadata": {
        "id": "i61ta6l-FHmA"
      },
      "execution_count": 107,
      "outputs": []
    },
    {
      "cell_type": "code",
      "source": [
        "# Three most commonly occuring violation codes for bin 1 i.e between 12:00 AM to 4:00 AM\n",
        "\n",
        "violation_time_bin1 = spark.sql(\"select Violation_Code as violation_code, count(*) as violation_count \\\n",
        "                                 from violation_time_bins_2017 \\\n",
        "                                 where Violation_Time_Bin == 1 \\\n",
        "                                 group by violation_code \\\n",
        "                                 order by violation_count desc \\\n",
        "                                 limit 3 \")\n",
        "violation_time_bin1.show()"
      ],
      "metadata": {
        "id": "cFoyqY44FMTo",
        "outputId": "e69182ae-f0d6-41ef-cb6c-269814c6b39d",
        "colab": {
          "base_uri": "https://localhost:8080/"
        }
      },
      "execution_count": 108,
      "outputs": [
        {
          "output_type": "stream",
          "name": "stdout",
          "text": [
            "+--------------+---------------+\n",
            "|violation_code|violation_count|\n",
            "+--------------+---------------+\n",
            "|            21|          36117|\n",
            "|            40|          25313|\n",
            "|            14|          14978|\n",
            "+--------------+---------------+\n",
            "\n"
          ]
        }
      ]
    },
    {
      "cell_type": "code",
      "source": [
        "# Three most commonly occuring violation codes for bin 2 i.e between 4:00 AM to 8:00 AM\n",
        "\n",
        "violation_time_bin2 = spark.sql(\"select Violation_Code as violation_code, count(*) as violation_count \\\n",
        "                                 from violation_time_bins_2017 \\\n",
        "                                 where Violation_Time_Bin == 2 \\\n",
        "                                 group by violation_code \\\n",
        "                                 order by violation_count desc \\\n",
        "                                 limit 3 \")\n",
        "violation_time_bin2.show()"
      ],
      "metadata": {
        "id": "E45WpHCbFO_V",
        "outputId": "df20cd6c-91bd-4374-89c2-1ad3f1301f1f",
        "colab": {
          "base_uri": "https://localhost:8080/"
        }
      },
      "execution_count": 109,
      "outputs": [
        {
          "output_type": "stream",
          "name": "stdout",
          "text": [
            "+--------------+---------------+\n",
            "|violation_code|violation_count|\n",
            "+--------------+---------------+\n",
            "|            14|          73582|\n",
            "|            40|          60370|\n",
            "|            21|          56709|\n",
            "+--------------+---------------+\n",
            "\n"
          ]
        }
      ]
    },
    {
      "cell_type": "code",
      "source": [
        "# Three most commonly occuring violation codes for bin 3 i.e between 8:00 AM to 12:00 PM\n",
        "\n",
        "violation_time_bin3 = spark.sql(\"select Violation_Code as violation_code, count(*) as violation_count \\\n",
        "                                 from violation_time_bins_2017 \\\n",
        "                                 where Violation_Time_Bin == 3 \\\n",
        "                                 group by violation_code \\\n",
        "                                 order by violation_count desc \\\n",
        "                                 limit 3 \")\n",
        "violation_time_bin3.show()"
      ],
      "metadata": {
        "id": "Wcv9_mNXFRtl",
        "outputId": "2e851287-8394-4aaa-cca1-4711c13b60bf",
        "colab": {
          "base_uri": "https://localhost:8080/"
        }
      },
      "execution_count": 110,
      "outputs": [
        {
          "output_type": "stream",
          "name": "stdout",
          "text": [
            "+--------------+---------------+\n",
            "|violation_code|violation_count|\n",
            "+--------------+---------------+\n",
            "|            21|         592463|\n",
            "|            36|         347650|\n",
            "|            38|         175753|\n",
            "+--------------+---------------+\n",
            "\n"
          ]
        }
      ]
    },
    {
      "cell_type": "code",
      "source": [
        "# Three most commonly occuring violation codes for bin 4 i.e between 12:00 PM to 4:00 PM\n",
        "\n",
        "violation_time_bin4 = spark.sql(\"select Violation_Code as violation_code, count(*) as violation_count \\\n",
        "                                 from violation_time_bins_2017 \\\n",
        "                                 where Violation_Time_Bin == 4 \\\n",
        "                                 group by violation_code \\\n",
        "                                 order by violation_count desc \\\n",
        "                                 limit 3 \")\n",
        "violation_time_bin4.show()"
      ],
      "metadata": {
        "id": "2sFmx_M0FUTW",
        "outputId": "aed715fb-8fc5-4067-acb9-149699e6897f",
        "colab": {
          "base_uri": "https://localhost:8080/"
        }
      },
      "execution_count": 111,
      "outputs": [
        {
          "output_type": "stream",
          "name": "stdout",
          "text": [
            "+--------------+---------------+\n",
            "|violation_code|violation_count|\n",
            "+--------------+---------------+\n",
            "|            36|         285895|\n",
            "|            38|         239881|\n",
            "|            37|         166794|\n",
            "+--------------+---------------+\n",
            "\n"
          ]
        }
      ]
    },
    {
      "cell_type": "code",
      "source": [
        "# Three most commonly occuring violation codes for bin 5 i.e between 4:00 PM to 8:00 PM\n",
        "\n",
        "violation_time_bin5 = spark.sql(\"select Violation_Code as violation_code, count(*) as violation_count \\\n",
        "                                 from violation_time_bins_2017 \\\n",
        "                                 where Violation_Time_Bin == 5 \\\n",
        "                                 group by violation_code \\\n",
        "                                 order by violation_count desc \\\n",
        "                                 limit 3 \")\n",
        "violation_time_bin5.show()"
      ],
      "metadata": {
        "id": "ucV4A0niFWhR",
        "outputId": "e7fa9d65-c728-4d4c-c1a0-bf698071d031",
        "colab": {
          "base_uri": "https://localhost:8080/"
        }
      },
      "execution_count": 112,
      "outputs": [
        {
          "output_type": "stream",
          "name": "stdout",
          "text": [
            "+--------------+---------------+\n",
            "|violation_code|violation_count|\n",
            "+--------------+---------------+\n",
            "|            38|         102568|\n",
            "|            14|          75032|\n",
            "|            37|          70242|\n",
            "+--------------+---------------+\n",
            "\n"
          ]
        }
      ]
    },
    {
      "cell_type": "code",
      "source": [
        "# Three most commonly occuring violation codes for bin 6 i.e between 8:00 PM to 12:00 AM\n",
        "\n",
        "violation_time_bin6 = spark.sql(\"select Violation_Code as violation_code, count(*) as violation_count \\\n",
        "                                 from violation_time_bins_2017 \\\n",
        "                                 where Violation_Time_Bin == 6 \\\n",
        "                                 group by violation_code \\\n",
        "                                 order by violation_count desc \\\n",
        "                                 limit 3 \")\n",
        "violation_time_bin6.show()"
      ],
      "metadata": {
        "id": "UlJaWbqqFYu_",
        "outputId": "95e1dd13-9851-4a09-b581-04fb1c2ced0e",
        "colab": {
          "base_uri": "https://localhost:8080/"
        }
      },
      "execution_count": 113,
      "outputs": [
        {
          "output_type": "stream",
          "name": "stdout",
          "text": [
            "+--------------+---------------+\n",
            "|violation_code|violation_count|\n",
            "+--------------+---------------+\n",
            "|             7|          26238|\n",
            "|            40|          22000|\n",
            "|            14|          20777|\n",
            "+--------------+---------------+\n",
            "\n"
          ]
        }
      ]
    },
    {
      "cell_type": "code",
      "source": [
        "# Now, Let us find the 3 most commonly occuring violation codes amongst all the 6 bins.\n",
        "\n",
        "common_violation_codes_across_bins = spark.sql(\"select Violation_Code as violation_code , count(*) as violation_count \\\n",
        "                                                from violation_time_bins_2017 \\\n",
        "                                                where violation_code in (21, 40, 78, 14, 40, 36, 38, 37, 7) \\\n",
        "                                                and Violation_Time != ''\\\n",
        "                                                group by violation_code \\\n",
        "                                                order by violation_count desc \\\n",
        "                                                limit 3 \")\n",
        "\n",
        "common_violation_codes_across_bins.show()"
      ],
      "metadata": {
        "id": "3qLzHEHeFbUY",
        "outputId": "899eee41-8bda-416d-9496-23219266c825",
        "colab": {
          "base_uri": "https://localhost:8080/"
        }
      },
      "execution_count": 114,
      "outputs": [
        {
          "output_type": "stream",
          "name": "stdout",
          "text": [
            "+--------------+---------------+\n",
            "|violation_code|violation_count|\n",
            "+--------------+---------------+\n",
            "|            21|         759588|\n",
            "|            36|         661827|\n",
            "|            38|         540060|\n",
            "+--------------+---------------+\n",
            "\n"
          ]
        }
      ]
    },
    {
      "cell_type": "code",
      "source": [],
      "metadata": {
        "id": "o5eUBjf-Ffz7"
      },
      "execution_count": null,
      "outputs": []
    },
    {
      "cell_type": "markdown",
      "source": [
        "From the above results, it can be inferred that - The violation codes that are common across atleast 3 time bins are 21, 38, 14 and 40 - The violation codes that are common across atleast 2 time bins are 36 and 37 - The violation codes that are associated only to 1 time bins are 78 and 7\n",
        "\n",
        "However, based on the ticket fequency count, the 3 most commonly occuring violation code among all the 6 bins are 21, 36 and 38. Hence we would consider the violation codes 21, 36 and 38 as the most commonly occuring violation codes for our further analysis."
      ],
      "metadata": {
        "id": "GMgQHVEFFjWj"
      }
    },
    {
      "cell_type": "markdown",
      "source": [
        "**Now, try another direction. For the three most commonly occurring violation codes, find the most common time of the day (in terms of the bins from the previous part).**"
      ],
      "metadata": {
        "id": "1KJC-_6JFnAu"
      }
    },
    {
      "cell_type": "code",
      "execution_count": 115,
      "metadata": {
        "id": "IKq6crKW95E8",
        "colab": {
          "base_uri": "https://localhost:8080/"
        },
        "outputId": "fadaa242-3ad3-4d0c-ea42-33d2d50b0a41"
      },
      "outputs": [
        {
          "output_type": "stream",
          "name": "stdout",
          "text": [
            "+------------------+---------------+\n",
            "|violation_time_bin|violation_count|\n",
            "+------------------+---------------+\n",
            "|                 3|        1115866|\n",
            "|                 4|         599668|\n",
            "|                 5|         116292|\n",
            "|                 2|          72726|\n",
            "|                 1|          36413|\n",
            "|                 6|          20485|\n",
            "+------------------+---------------+\n",
            "only showing top 6 rows\n",
            "\n"
          ]
        }
      ],
      "source": [
        "# For the three most commonly occurring violation codes, find the most common time of the day (in terms of the bins from the\n",
        "# previous part\n",
        "\n",
        "common_time_for_violation = spark.sql(\"select Violation_Time_bin as violation_time_bin, count(*) as violation_count \\\n",
        "                                       from violation_time_bins_2017 \\\n",
        "                                       where Violation_Code in (21, 36, 38) \\\n",
        "                                       group by Violation_Time_bin \\\n",
        "                                       order by violation_count desc\")\n",
        "common_time_for_violation.show(6)"
      ]
    },
    {
      "cell_type": "code",
      "source": [
        "# First let us divide the year into seasons based on the Issue Date\n",
        "\n",
        "# We shall divide the 4 seasons based on Issue Date as follows\n",
        "\n",
        "#     Spring = March to May\n",
        "#     Summer = June to August\n",
        "#     Autumn = September to November\n",
        "#     winter = December to February\n",
        "\n",
        "seasons2017 = spark.sql(\"select Summons_Number, Issue_Date, Violation_Code,  \\\n",
        "                        case \\\n",
        "                            when MONTH(TO_DATE(Issue_Date, 'MM/dd/yyyy')) between 03 and 05 \\\n",
        "                                then 'spring' \\\n",
        "                            when MONTH(TO_DATE(Issue_Date, 'MM/dd/yyyy')) between 06 and 08 \\\n",
        "                                then 'summer' \\\n",
        "                            when MONTH(TO_DATE(Issue_Date, 'MM/dd/yyyy')) between 09 and 11 \\\n",
        "                                then 'autumn' \\\n",
        "                            when MONTH(TO_DATE(Issue_Date, 'MM/dd/yyyy')) in (1,2,12) \\\n",
        "                                then 'winter' \\\n",
        "                            else 'unknown' \\\n",
        "                        end as Season \\\n",
        "                        from parking_2017\")\n",
        "\n",
        "seasons2017.show(10)"
      ],
      "metadata": {
        "id": "SdpPeCPMFv2j",
        "outputId": "c6e203e2-7c58-4035-8423-d2f355163482",
        "colab": {
          "base_uri": "https://localhost:8080/"
        }
      },
      "execution_count": 119,
      "outputs": [
        {
          "output_type": "stream",
          "name": "stdout",
          "text": [
            "+--------------+----------+--------------+------+\n",
            "|Summons_Number|Issue_Date|Violation_Code|Season|\n",
            "+--------------+----------+--------------+------+\n",
            "|    8478629828|06/14/2017|            47|summer|\n",
            "|    5096917368|06/13/2017|             7|summer|\n",
            "|    1407740258|01/11/2017|            78|winter|\n",
            "|    1413656420|02/04/2017|            40|winter|\n",
            "|    8480309064|01/26/2017|            64|winter|\n",
            "|    1416638830|04/30/2017|            20|spring|\n",
            "|    4630524241|02/03/2017|            36|winter|\n",
            "|    8505131836|05/27/2017|            38|spring|\n",
            "|    8513520615|05/31/2017|            14|spring|\n",
            "|    8556155431|05/26/2017|            75|spring|\n",
            "+--------------+----------+--------------+------+\n",
            "only showing top 10 rows\n",
            "\n"
          ]
        }
      ]
    },
    {
      "cell_type": "code",
      "execution_count": 120,
      "metadata": {
        "id": "UfouUQBV9V2Y"
      },
      "outputs": [],
      "source": [
        "# Create/Replace a Temp View\n",
        "\n",
        "seasons2017.createOrReplaceTempView(\"seasons_2017\")"
      ]
    },
    {
      "cell_type": "code",
      "execution_count": 121,
      "metadata": {
        "id": "UEcjPR2I7SRA",
        "colab": {
          "base_uri": "https://localhost:8080/"
        },
        "outputId": "982c23f8-ba09-428b-b6ed-db50e6a2bfb0"
      },
      "outputs": [
        {
          "output_type": "stream",
          "name": "stdout",
          "text": [
            "+------+----------------+\n",
            "|season|ticket_frequency|\n",
            "+------+----------------+\n",
            "|spring|         2841718|\n",
            "|winter|         1686592|\n",
            "|summer|          846597|\n",
            "|autumn|             885|\n",
            "+------+----------------+\n",
            "\n"
          ]
        }
      ],
      "source": [
        "# Frequency of tickets based on season\n",
        "\n",
        "parking_violations_on_seasons = spark.sql(\"select Season as season, count(*) as ticket_frequency \\\n",
        "                                           from seasons_2017 \\\n",
        "                                           group by season \\\n",
        "                                           order by ticket_frequency desc\")\n",
        "parking_violations_on_seasons.show()"
      ]
    },
    {
      "cell_type": "code",
      "execution_count": 122,
      "metadata": {
        "id": "-OdmOKVi7OtR",
        "colab": {
          "base_uri": "https://localhost:8080/"
        },
        "outputId": "f9ee3be9-55b9-480f-b3f6-bccbe03474f3"
      },
      "outputs": [
        {
          "output_type": "stream",
          "name": "stdout",
          "text": [
            "+--------------+---------------+\n",
            "|violation_code|violation_count|\n",
            "+--------------+---------------+\n",
            "|            21|         397739|\n",
            "|            36|         344366|\n",
            "|            38|         270030|\n",
            "+--------------+---------------+\n",
            "\n"
          ]
        }
      ],
      "source": [
        "# Three most commonly occuring violation for spring i.e. from March to May\n",
        "\n",
        "spring = spark.sql(\"select Violation_Code as violation_code, count(*) as violation_count \\\n",
        "                    from seasons_2017 \\\n",
        "                    where Season == 'spring' \\\n",
        "                    group by violation_code \\\n",
        "                    order by violation_count desc \\\n",
        "                    limit 3 \")\n",
        "spring.show()"
      ]
    },
    {
      "cell_type": "code",
      "execution_count": 123,
      "metadata": {
        "id": "XsQZa2bT7ICz",
        "colab": {
          "base_uri": "https://localhost:8080/"
        },
        "outputId": "47187484-e952-402a-d370-53c7173b6a75"
      },
      "outputs": [
        {
          "output_type": "stream",
          "name": "stdout",
          "text": [
            "+--------------+---------------+\n",
            "|violation_code|violation_count|\n",
            "+--------------+---------------+\n",
            "|            21|         235365|\n",
            "|            36|         220956|\n",
            "|            38|         186833|\n",
            "+--------------+---------------+\n",
            "\n"
          ]
        }
      ],
      "source": [
        "# Three most commonly occuring violation for winter i.e. from December to February\n",
        "\n",
        "winter = spark.sql(\"select Violation_Code as violation_code, count(*) as violation_count \\\n",
        "                    from seasons_2017 \\\n",
        "                    where Season == 'winter' \\\n",
        "                    group by violation_code \\\n",
        "                    order by violation_count desc \\\n",
        "                    limit 3 \")\n",
        "winter.show()"
      ]
    },
    {
      "cell_type": "code",
      "execution_count": 124,
      "metadata": {
        "id": "KAAPMpvWw_z0",
        "colab": {
          "base_uri": "https://localhost:8080/"
        },
        "outputId": "251c0688-5a6d-4681-921e-a7bb8c7c4021"
      },
      "outputs": [
        {
          "output_type": "stream",
          "name": "stdout",
          "text": [
            "+--------------+---------------+\n",
            "|violation_code|violation_count|\n",
            "+--------------+---------------+\n",
            "|            21|         126366|\n",
            "|            36|          96505|\n",
            "|            38|          83190|\n",
            "+--------------+---------------+\n",
            "\n"
          ]
        }
      ],
      "source": [
        "# Three most commonly occuring violation for summer i.e. from June to September\n",
        "\n",
        "summer = spark.sql(\"select Violation_Code as violation_code, count(*) as violation_count \\\n",
        "                    from seasons_2017 \\\n",
        "                    where Season == 'summer' \\\n",
        "                    group by violation_code \\\n",
        "                    order by violation_count desc \\\n",
        "                    limit 3 \")\n",
        "summer.show()"
      ]
    },
    {
      "cell_type": "code",
      "execution_count": 125,
      "metadata": {
        "id": "7UQFk33Yw95Z",
        "colab": {
          "base_uri": "https://localhost:8080/"
        },
        "outputId": "971f525a-f556-4bf9-eba6-6adbcc794bea"
      },
      "outputs": [
        {
          "output_type": "stream",
          "name": "stdout",
          "text": [
            "+--------------+---------------+\n",
            "|violation_code|violation_count|\n",
            "+--------------+---------------+\n",
            "|            46|            203|\n",
            "|            21|            118|\n",
            "|            40|            113|\n",
            "+--------------+---------------+\n",
            "\n"
          ]
        }
      ],
      "source": [
        "# Three most commonly occuring violation for autumn i.e. from September to November\n",
        "\n",
        "autumn = spark.sql(\"select Violation_Code as violation_code, count(*) as violation_count \\\n",
        "                    from seasons_2017 \\\n",
        "                    where Season == 'autumn' \\\n",
        "                    group by violation_code \\\n",
        "                    order by violation_count desc \\\n",
        "                    limit 3 \")\n",
        "autumn.show()"
      ]
    },
    {
      "cell_type": "code",
      "execution_count": 116,
      "metadata": {
        "id": "hOcmt-mOwzCd",
        "colab": {
          "base_uri": "https://localhost:8080/"
        },
        "outputId": "d245f3a9-a074-486f-f873-0453d8600f47"
      },
      "outputs": [
        {
          "output_type": "stream",
          "name": "stdout",
          "text": [
            "+--------------+----------------+\n",
            "|violation_code|ticket_frequency|\n",
            "+--------------+----------------+\n",
            "|            21|          759588|\n",
            "|            36|          661827|\n",
            "|            38|          540060|\n",
            "+--------------+----------------+\n",
            "\n"
          ]
        }
      ],
      "source": [
        "top_3_common_violations = spark.sql(\"select Violation_Code as violation_code, count(*) as ticket_frequency \\\n",
        "                                    from parking_2017 \\\n",
        "                                    group by violation_code \\\n",
        "                                    order by ticket_frequency desc \\\n",
        "                                    limit 3\")\n",
        "top_3_common_violations.show()"
      ]
    },
    {
      "cell_type": "code",
      "source": [
        "from pyspark.sql.functions import when\n",
        "\n",
        "common_violations_fine_amount = top_3_common_violations \\\n",
        "                                .withColumn(\"fine_amount\",when(top_3_common_violations.violation_code == 21, \\\n",
        "                                (top_3_common_violations.ticket_frequency) *55) \\\n",
        "                                .otherwise((top_3_common_violations.ticket_frequency)*50))\n",
        "\n",
        "common_violations_fine_amount.show()"
      ],
      "metadata": {
        "id": "whlqzkD-GOzQ",
        "outputId": "b44d370a-cb4e-4098-ef6d-1cb9a337e5cc",
        "colab": {
          "base_uri": "https://localhost:8080/"
        }
      },
      "execution_count": 126,
      "outputs": [
        {
          "output_type": "stream",
          "name": "stdout",
          "text": [
            "+--------------+----------------+-----------+\n",
            "|violation_code|ticket_frequency|fine_amount|\n",
            "+--------------+----------------+-----------+\n",
            "|            21|          759588|   41777340|\n",
            "|            36|          661827|   33091350|\n",
            "|            38|          540060|   27003000|\n",
            "+--------------+----------------+-----------+\n",
            "\n"
          ]
        }
      ]
    },
    {
      "cell_type": "code",
      "source": [
        "# Total amount collected for the three violation codes with maximum tickets\n",
        "\n",
        "from pyspark.sql import functions as F\n",
        "\n",
        "total = common_violations_fine_amount.agg(F.sum(\"fine_amount\")).collect()\n",
        "print('Total amount collected for the three violation codes with maximum tickets : ', total)"
      ],
      "metadata": {
        "id": "MaXbEIXMGcKO",
        "outputId": "b4dc24a9-1913-4bfd-8ed7-b889adcc12fe",
        "colab": {
          "base_uri": "https://localhost:8080/"
        }
      },
      "execution_count": 127,
      "outputs": [
        {
          "output_type": "stream",
          "name": "stdout",
          "text": [
            "Total amount collected for the three violation codes with maximum tickets :  [Row(sum(fine_amount)=101871690)]\n"
          ]
        }
      ]
    },
    {
      "cell_type": "code",
      "source": [],
      "metadata": {
        "id": "SVkhKW_EHw-e"
      },
      "execution_count": null,
      "outputs": []
    },
    {
      "cell_type": "code",
      "source": [],
      "metadata": {
        "id": "MZgSyW5FGfGT"
      },
      "execution_count": null,
      "outputs": []
    },
    {
      "cell_type": "markdown",
      "source": [
        "- Total Number of tickets issued for the year 2017 is 54,26,657.\n",
        "- May 2017 had the highest parking tickets issued followed by March and April.\n",
        "- There are 64 unique states where the cars that got parking tickets came from.\n",
        "- New York has the highest parking violations followed by New Jersey and Pennsylvania.\n",
        "- Plate Id 96089MA had the maximum parking violations.\n",
        "- The top 3 violation codes are 21, 36 and 38\n",
        "    - Code 21 - No parking where parking is not allowed by sign, street marking or traffic control device.\n",
        "    - Code 36 - Exceeding the posted speed limit in or near a designated school zone.\n",
        "    - Code 38 - Parking Meter - Failing to show a receipt or tag in the windshield.Drivers get a 5-minute grace period\n",
        "                past the expired time on parking meter receipts.\n",
        "- For Vehical Body Type, maximum parking violations happen for Suburban(SUBN) followed by four door sedan(4DSD) and Van\n",
        "- For Vehicle Make, maximum parking violations happen for Ford follwed by Toyota and Honda\n",
        "- The top 3 violation precincts and Issuer Precincts where maximum parking violations happen are 19, 14 and 1\n",
        "- The top 3 violation codes across precincts 19, 14 and 1 where the parking tickets were issued are 14, 46 and 38\n",
        "\n",
        "- Code 14 - General No Standing: Standing or parking where standing is not allowed by sign, street marking or;\n",
        "                traffic control device.\n",
        "    - Code 46 - Standing or parking on the roadway side of a vehicle stopped, standing or parked at the curb; in other\n",
        "                words also known as \"double parking\".\n",
        "- The most common time of the day that violations occur for violation codes 21, 36 and 38 are between 8:00 AM to 12:00 PM\n",
        "  followed by 12:00 PM to 4:00 PM and 4:00 PM to 8:00 PM\n",
        "- Maximum Ticket Frequency occur in Spring followed by Winter, Summer and Autumn. Autumn has the least Ticket Frequency.\n",
        "- Most commonly occuring violation codes during Spring, Winter and Summer are 21,36 and 38.\n",
        "- Most commonly occuring violation codes during Autumn are 46, 21 and 40\n",
        "- The highest fine amount of $42,225,700 was for violation code 21.\n",
        "- A total fine amount of $102,440,250 was collected for the three violation codes 21, 36 and 38"
      ],
      "metadata": {
        "id": "buaWTyy3GkDc"
      }
    },
    {
      "cell_type": "code",
      "execution_count": null,
      "metadata": {
        "id": "tPSzErmVwrot"
      },
      "outputs": [],
      "source": []
    },
    {
      "cell_type": "code",
      "execution_count": null,
      "metadata": {
        "id": "HdloqR38wmWh"
      },
      "outputs": [],
      "source": []
    },
    {
      "cell_type": "code",
      "execution_count": null,
      "metadata": {
        "id": "qSsBaPrHwQu3"
      },
      "outputs": [],
      "source": []
    },
    {
      "cell_type": "code",
      "execution_count": null,
      "metadata": {
        "id": "PbCHW1ddwJCa"
      },
      "outputs": [],
      "source": []
    },
    {
      "cell_type": "code",
      "execution_count": null,
      "metadata": {
        "id": "c6JsdFmEwAKP"
      },
      "outputs": [],
      "source": []
    },
    {
      "cell_type": "code",
      "execution_count": null,
      "metadata": {
        "id": "LqsCW1VQUJA-"
      },
      "outputs": [],
      "source": []
    },
    {
      "cell_type": "code",
      "execution_count": null,
      "metadata": {
        "id": "UmhvdyZ_UGdg"
      },
      "outputs": [],
      "source": []
    },
    {
      "cell_type": "code",
      "execution_count": null,
      "metadata": {
        "id": "VqFqupB4TluK"
      },
      "outputs": [],
      "source": []
    },
    {
      "cell_type": "code",
      "execution_count": null,
      "metadata": {
        "id": "iwVSiXzSS5p0"
      },
      "outputs": [],
      "source": []
    },
    {
      "cell_type": "code",
      "execution_count": null,
      "metadata": {
        "id": "XCqG20GGPWL9"
      },
      "outputs": [],
      "source": []
    },
    {
      "cell_type": "code",
      "execution_count": null,
      "metadata": {
        "id": "F06etAt8QmbV"
      },
      "outputs": [],
      "source": []
    },
    {
      "cell_type": "code",
      "execution_count": null,
      "metadata": {
        "id": "kuQLR5m3QiQi"
      },
      "outputs": [],
      "source": []
    },
    {
      "cell_type": "code",
      "execution_count": null,
      "metadata": {
        "id": "0KmT5-4hQfub"
      },
      "outputs": [],
      "source": []
    },
    {
      "cell_type": "code",
      "execution_count": null,
      "metadata": {
        "id": "V5o4pdmYQcHw"
      },
      "outputs": [],
      "source": []
    },
    {
      "cell_type": "code",
      "execution_count": null,
      "metadata": {
        "id": "wpWRXvmaQYzd"
      },
      "outputs": [],
      "source": []
    },
    {
      "cell_type": "code",
      "execution_count": null,
      "metadata": {
        "id": "a_15DLcoPctI"
      },
      "outputs": [],
      "source": []
    },
    {
      "cell_type": "code",
      "execution_count": null,
      "metadata": {
        "id": "K2HBpzeLPGW2"
      },
      "outputs": [],
      "source": []
    },
    {
      "cell_type": "code",
      "execution_count": null,
      "metadata": {
        "id": "S7Sle6qiOtep"
      },
      "outputs": [],
      "source": []
    },
    {
      "cell_type": "code",
      "execution_count": null,
      "metadata": {
        "id": "bWkB7_gwM4RN"
      },
      "outputs": [],
      "source": []
    },
    {
      "cell_type": "code",
      "execution_count": null,
      "metadata": {
        "id": "VVBxTmhmMJjV"
      },
      "outputs": [],
      "source": []
    },
    {
      "cell_type": "code",
      "execution_count": null,
      "metadata": {
        "id": "3eYjspscL7i2"
      },
      "outputs": [],
      "source": []
    },
    {
      "cell_type": "code",
      "execution_count": null,
      "metadata": {
        "id": "3F6ZzYfeLwbH"
      },
      "outputs": [],
      "source": []
    },
    {
      "cell_type": "code",
      "execution_count": null,
      "metadata": {
        "id": "2eAXlyWaLtXb"
      },
      "outputs": [],
      "source": []
    },
    {
      "cell_type": "code",
      "execution_count": null,
      "metadata": {
        "id": "B43t21J-LZd-"
      },
      "outputs": [],
      "source": []
    },
    {
      "cell_type": "code",
      "execution_count": null,
      "metadata": {
        "id": "rmX5iKKQLTEZ"
      },
      "outputs": [],
      "source": []
    },
    {
      "cell_type": "code",
      "execution_count": null,
      "metadata": {
        "id": "zK1B95udKxLo"
      },
      "outputs": [],
      "source": []
    },
    {
      "cell_type": "code",
      "execution_count": null,
      "metadata": {
        "id": "1UhITO83KLni"
      },
      "outputs": [],
      "source": []
    },
    {
      "cell_type": "code",
      "execution_count": null,
      "metadata": {
        "id": "pQFyn-M5Jb2d"
      },
      "outputs": [],
      "source": []
    },
    {
      "cell_type": "code",
      "execution_count": null,
      "metadata": {
        "id": "Mge7FFBxIHl0"
      },
      "outputs": [],
      "source": []
    },
    {
      "cell_type": "code",
      "execution_count": null,
      "metadata": {
        "id": "IjPFu8yrH4Zi"
      },
      "outputs": [],
      "source": []
    },
    {
      "cell_type": "code",
      "execution_count": null,
      "metadata": {
        "id": "3JbDz6QiHl57"
      },
      "outputs": [],
      "source": []
    },
    {
      "cell_type": "code",
      "execution_count": null,
      "metadata": {
        "id": "yW0CIeJUHR6P"
      },
      "outputs": [],
      "source": []
    },
    {
      "cell_type": "code",
      "execution_count": null,
      "metadata": {
        "id": "REu3d6qhG-GB"
      },
      "outputs": [],
      "source": []
    },
    {
      "cell_type": "code",
      "execution_count": null,
      "metadata": {
        "id": "JWLTtPNUGxsc"
      },
      "outputs": [],
      "source": []
    },
    {
      "cell_type": "code",
      "execution_count": null,
      "metadata": {
        "id": "PDoDVkSqGpKY"
      },
      "outputs": [],
      "source": []
    },
    {
      "cell_type": "code",
      "execution_count": null,
      "metadata": {
        "id": "6ggCIa-GF5Xi"
      },
      "outputs": [],
      "source": []
    },
    {
      "cell_type": "code",
      "execution_count": null,
      "metadata": {
        "id": "jRJoZcJDFpRD"
      },
      "outputs": [],
      "source": []
    },
    {
      "cell_type": "code",
      "execution_count": null,
      "metadata": {
        "id": "kwS6kY2sCv-p"
      },
      "outputs": [],
      "source": []
    },
    {
      "cell_type": "code",
      "execution_count": null,
      "metadata": {
        "id": "snvZ6jqNCp-q"
      },
      "outputs": [],
      "source": []
    },
    {
      "cell_type": "code",
      "execution_count": null,
      "metadata": {
        "id": "CSNMhwH0CVK0"
      },
      "outputs": [],
      "source": []
    },
    {
      "cell_type": "code",
      "execution_count": null,
      "metadata": {
        "id": "I9WM7_CjBC6F"
      },
      "outputs": [],
      "source": []
    }
  ],
  "metadata": {
    "colab": {
      "provenance": [],
      "mount_file_id": "1C8zC3joJ_RE20NCmWI7EecBzqsrFcUpn",
      "authorship_tag": "ABX9TyOFNSXnCxhoEsMIfpj9GYn7",
      "include_colab_link": true
    },
    "kernelspec": {
      "display_name": "Python 3",
      "name": "python3"
    },
    "language_info": {
      "name": "python"
    }
  },
  "nbformat": 4,
  "nbformat_minor": 0
}